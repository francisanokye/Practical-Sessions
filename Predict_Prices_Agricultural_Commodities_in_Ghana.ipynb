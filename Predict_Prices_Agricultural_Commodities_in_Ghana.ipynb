{
 "cells": [
  {
   "cell_type": "markdown",
   "metadata": {},
   "source": [
    "The datasets used in this session is obtained from (https://data.gov.gh/dataset/agricultural-production-estimates-1993-2017). The national wholesale price of selected commodities is the average of collated prices of each commodity in the regions.\n",
    "\n",
    "There are a number of features in the datasets where it is not readily apparent what the encode or what their units are. Common definitions are:\n",
    "\n",
    "* Region: regions in Ghana.\n",
    "* Year: Years spanning between 2008 and 2012.\n",
    "* Total_Rainfall (mm) : rainfall record in milliimeters (daily).\n",
    "* Commodity: variety of farm produce.\n",
    "* Weight(Kg): weight of produce in 100kg\n",
    "\n",
    "The objective of this hands-on practicals is to build a regresssion model to predict prices for selected commodities in Ghana."
   ]
  },
  {
   "cell_type": "code",
   "execution_count": 1,
   "metadata": {},
   "outputs": [],
   "source": [
    "# import relevant libraries to help with loading the data and plotting\n",
    "import pandas as pd\n",
    "import numpy as np\n",
    "import seaborn as sb\n",
    "import matplotlib.pyplot as plt\n",
    "from pylab import rcParams\n",
    "from collections import Counter\n",
    "rcParams['figure.figsize'] = 8,8\n",
    "%matplotlib inline"
   ]
  },
  {
   "cell_type": "markdown",
   "metadata": {},
   "source": [
    "### LOADING DATA"
   ]
  },
  {
   "cell_type": "code",
   "execution_count": 2,
   "metadata": {},
   "outputs": [],
   "source": [
    "rainfall = pd.read_csv('/home/francisanokye/AIMS/Data_Bank/RAINFALL.csv')\n",
    "temperature = pd.read_csv('/home/francisanokye/AIMS/Data_Bank/Monthly_Average_Temperature_in_Ghana.csv')\n",
    "prices = pd.read_csv('/home/francisanokye/AIMS/Data_Bank/NATIONAL_WHOLESALE_PRICE_OF_SELECTED_COMMODITIES_1970_2017.csv',encoding='latin-1')"
   ]
  },
  {
   "cell_type": "code",
   "execution_count": 3,
   "metadata": {},
   "outputs": [
    {
     "name": "stdout",
     "output_type": "stream",
     "text": [
      "(100, 3)\n"
     ]
    },
    {
     "data": {
      "text/html": [
       "<div>\n",
       "<style scoped>\n",
       "    .dataframe tbody tr th:only-of-type {\n",
       "        vertical-align: middle;\n",
       "    }\n",
       "\n",
       "    .dataframe tbody tr th {\n",
       "        vertical-align: top;\n",
       "    }\n",
       "\n",
       "    .dataframe thead th {\n",
       "        text-align: right;\n",
       "    }\n",
       "</style>\n",
       "<table border=\"1\" class=\"dataframe\">\n",
       "  <thead>\n",
       "    <tr style=\"text-align: right;\">\n",
       "      <th></th>\n",
       "      <th>YEAR</th>\n",
       "      <th>REGION</th>\n",
       "      <th>TOTAL RAINFALL(MM)</th>\n",
       "    </tr>\n",
       "  </thead>\n",
       "  <tbody>\n",
       "    <tr>\n",
       "      <th>0</th>\n",
       "      <td>2008</td>\n",
       "      <td>WESTERN</td>\n",
       "      <td>1518</td>\n",
       "    </tr>\n",
       "    <tr>\n",
       "      <th>1</th>\n",
       "      <td>2008</td>\n",
       "      <td>CENTRAL</td>\n",
       "      <td>1361</td>\n",
       "    </tr>\n",
       "    <tr>\n",
       "      <th>2</th>\n",
       "      <td>2008</td>\n",
       "      <td>GREATER ACCRA</td>\n",
       "      <td>914</td>\n",
       "    </tr>\n",
       "    <tr>\n",
       "      <th>3</th>\n",
       "      <td>2008</td>\n",
       "      <td>VOLTA</td>\n",
       "      <td>1436</td>\n",
       "    </tr>\n",
       "    <tr>\n",
       "      <th>4</th>\n",
       "      <td>2008</td>\n",
       "      <td>EASTERN</td>\n",
       "      <td>1454</td>\n",
       "    </tr>\n",
       "  </tbody>\n",
       "</table>\n",
       "</div>"
      ],
      "text/plain": [
       "   YEAR         REGION  TOTAL RAINFALL(MM)\n",
       "0  2008        WESTERN                1518\n",
       "1  2008        CENTRAL                1361\n",
       "2  2008  GREATER ACCRA                 914\n",
       "3  2008          VOLTA                1436\n",
       "4  2008        EASTERN                1454"
      ]
     },
     "execution_count": 3,
     "metadata": {},
     "output_type": "execute_result"
    }
   ],
   "source": [
    "# checking the total number of rows and columns for the rainfall data, and print out the first 5 rows\n",
    "print(rainfall.shape)\n",
    "rainfall.head()"
   ]
  },
  {
   "cell_type": "code",
   "execution_count": 4,
   "metadata": {},
   "outputs": [
    {
     "name": "stdout",
     "output_type": "stream",
     "text": [
      "<class 'pandas.core.frame.DataFrame'>\n",
      "RangeIndex: 100 entries, 0 to 99\n",
      "Data columns (total 3 columns):\n",
      "YEAR                  100 non-null int64\n",
      "REGION                100 non-null object\n",
      "TOTAL RAINFALL(MM)    100 non-null int64\n",
      "dtypes: int64(2), object(1)\n",
      "memory usage: 2.4+ KB\n"
     ]
    }
   ],
   "source": [
    "# checking data information\n",
    "rainfall.info()"
   ]
  },
  {
   "cell_type": "code",
   "execution_count": 5,
   "metadata": {},
   "outputs": [
    {
     "data": {
      "text/html": [
       "<div>\n",
       "<style scoped>\n",
       "    .dataframe tbody tr th:only-of-type {\n",
       "        vertical-align: middle;\n",
       "    }\n",
       "\n",
       "    .dataframe tbody tr th {\n",
       "        vertical-align: top;\n",
       "    }\n",
       "\n",
       "    .dataframe thead th {\n",
       "        text-align: right;\n",
       "    }\n",
       "</style>\n",
       "<table border=\"1\" class=\"dataframe\">\n",
       "  <thead>\n",
       "    <tr style=\"text-align: right;\">\n",
       "      <th></th>\n",
       "      <th>Year</th>\n",
       "      <th>Region</th>\n",
       "      <th>Total_Rainfall (mm)</th>\n",
       "    </tr>\n",
       "  </thead>\n",
       "  <tbody>\n",
       "    <tr>\n",
       "      <th>0</th>\n",
       "      <td>2008</td>\n",
       "      <td>WESTERN</td>\n",
       "      <td>1518</td>\n",
       "    </tr>\n",
       "    <tr>\n",
       "      <th>1</th>\n",
       "      <td>2008</td>\n",
       "      <td>CENTRAL</td>\n",
       "      <td>1361</td>\n",
       "    </tr>\n",
       "    <tr>\n",
       "      <th>2</th>\n",
       "      <td>2008</td>\n",
       "      <td>GREATER ACCRA</td>\n",
       "      <td>914</td>\n",
       "    </tr>\n",
       "    <tr>\n",
       "      <th>3</th>\n",
       "      <td>2008</td>\n",
       "      <td>VOLTA</td>\n",
       "      <td>1436</td>\n",
       "    </tr>\n",
       "    <tr>\n",
       "      <th>4</th>\n",
       "      <td>2008</td>\n",
       "      <td>EASTERN</td>\n",
       "      <td>1454</td>\n",
       "    </tr>\n",
       "  </tbody>\n",
       "</table>\n",
       "</div>"
      ],
      "text/plain": [
       "   Year         Region  Total_Rainfall (mm)\n",
       "0  2008        WESTERN                 1518\n",
       "1  2008        CENTRAL                 1361\n",
       "2  2008  GREATER ACCRA                  914\n",
       "3  2008          VOLTA                 1436\n",
       "4  2008        EASTERN                 1454"
      ]
     },
     "execution_count": 5,
     "metadata": {},
     "output_type": "execute_result"
    }
   ],
   "source": [
    "# renaming columns for rainfall \n",
    "col = {'YEAR':'Year','REGION':'Region','TOTAL RAINFALL(MM)':'Total_Rainfall (mm)'}\n",
    "rainfall.rename(columns=col,inplace=True)\n",
    "rainfall.head()"
   ]
  },
  {
   "cell_type": "code",
   "execution_count": 6,
   "metadata": {},
   "outputs": [
    {
     "name": "stdout",
     "output_type": "stream",
     "text": [
      "(1344, 4)\n"
     ]
    },
    {
     "data": {
      "text/html": [
       "<div>\n",
       "<style scoped>\n",
       "    .dataframe tbody tr th:only-of-type {\n",
       "        vertical-align: middle;\n",
       "    }\n",
       "\n",
       "    .dataframe tbody tr th {\n",
       "        vertical-align: top;\n",
       "    }\n",
       "\n",
       "    .dataframe thead th {\n",
       "        text-align: right;\n",
       "    }\n",
       "</style>\n",
       "<table border=\"1\" class=\"dataframe\">\n",
       "  <thead>\n",
       "    <tr style=\"text-align: right;\">\n",
       "      <th></th>\n",
       "      <th>Temperature (C)</th>\n",
       "      <th>Year</th>\n",
       "      <th>Month</th>\n",
       "      <th>Country</th>\n",
       "    </tr>\n",
       "  </thead>\n",
       "  <tbody>\n",
       "    <tr>\n",
       "      <th>0</th>\n",
       "      <td>25.326168</td>\n",
       "      <td>1901</td>\n",
       "      <td>1</td>\n",
       "      <td>GHA</td>\n",
       "    </tr>\n",
       "    <tr>\n",
       "      <th>1</th>\n",
       "      <td>28.642990</td>\n",
       "      <td>1901</td>\n",
       "      <td>2</td>\n",
       "      <td>GHA</td>\n",
       "    </tr>\n",
       "    <tr>\n",
       "      <th>2</th>\n",
       "      <td>28.397196</td>\n",
       "      <td>1901</td>\n",
       "      <td>3</td>\n",
       "      <td>GHA</td>\n",
       "    </tr>\n",
       "    <tr>\n",
       "      <th>3</th>\n",
       "      <td>28.612148</td>\n",
       "      <td>1901</td>\n",
       "      <td>4</td>\n",
       "      <td>GHA</td>\n",
       "    </tr>\n",
       "    <tr>\n",
       "      <th>4</th>\n",
       "      <td>27.476635</td>\n",
       "      <td>1901</td>\n",
       "      <td>5</td>\n",
       "      <td>GHA</td>\n",
       "    </tr>\n",
       "  </tbody>\n",
       "</table>\n",
       "</div>"
      ],
      "text/plain": [
       "   Temperature (C)  \\tYear   Month  Country\n",
       "0        25.326168    1901       1      GHA\n",
       "1        28.642990    1901       2      GHA\n",
       "2        28.397196    1901       3      GHA\n",
       "3        28.612148    1901       4      GHA\n",
       "4        27.476635    1901       5      GHA"
      ]
     },
     "execution_count": 6,
     "metadata": {},
     "output_type": "execute_result"
    }
   ],
   "source": [
    "# check the total number of rows and columns for the temperature data, and print out the first 5 rows\n",
    "print(temperature.shape)\n",
    "temperature.head()"
   ]
  },
  {
   "cell_type": "code",
   "execution_count": 7,
   "metadata": {},
   "outputs": [
    {
     "name": "stdout",
     "output_type": "stream",
     "text": [
      "<class 'pandas.core.frame.DataFrame'>\n",
      "RangeIndex: 1344 entries, 0 to 1343\n",
      "Data columns (total 4 columns):\n",
      "Temperature (C)    1344 non-null float64\n",
      "\tYear              1344 non-null int64\n",
      " Month             1344 non-null int64\n",
      " Country           1344 non-null object\n",
      "dtypes: float64(1), int64(2), object(1)\n",
      "memory usage: 42.1+ KB\n"
     ]
    }
   ],
   "source": [
    "# checking data information\n",
    "temperature.info()"
   ]
  },
  {
   "cell_type": "code",
   "execution_count": 8,
   "metadata": {},
   "outputs": [
    {
     "name": "stdout",
     "output_type": "stream",
     "text": [
      "<class 'pandas.core.frame.DataFrame'>\n",
      "RangeIndex: 1344 entries, 0 to 1343\n",
      "Data columns (total 4 columns):\n",
      "Temperature (C)    1344 non-null float64\n",
      "Year               1344 non-null int64\n",
      "Month              1344 non-null int64\n",
      "Country            1344 non-null object\n",
      "dtypes: float64(1), int64(2), object(1)\n",
      "memory usage: 42.1+ KB\n"
     ]
    }
   ],
   "source": [
    "# remove unwanted whitespaces in the column names\n",
    "temperature.columns = temperature.columns.str.strip()\n",
    "temperature.info()"
   ]
  },
  {
   "cell_type": "code",
   "execution_count": 9,
   "metadata": {
    "scrolled": true
   },
   "outputs": [
    {
     "name": "stdout",
     "output_type": "stream",
     "text": [
      "(3216, 5)\n"
     ]
    },
    {
     "data": {
      "text/html": [
       "<div>\n",
       "<style scoped>\n",
       "    .dataframe tbody tr th:only-of-type {\n",
       "        vertical-align: middle;\n",
       "    }\n",
       "\n",
       "    .dataframe tbody tr th {\n",
       "        vertical-align: top;\n",
       "    }\n",
       "\n",
       "    .dataframe thead th {\n",
       "        text-align: right;\n",
       "    }\n",
       "</style>\n",
       "<table border=\"1\" class=\"dataframe\">\n",
       "  <thead>\n",
       "    <tr style=\"text-align: right;\">\n",
       "      <th></th>\n",
       "      <th>YEAR</th>\n",
       "      <th>MONTH</th>\n",
       "      <th>COMMODITY</th>\n",
       "      <th>WEIGHT, KG PER BAG</th>\n",
       "      <th>PRICE, ¢ GH</th>\n",
       "    </tr>\n",
       "  </thead>\n",
       "  <tbody>\n",
       "    <tr>\n",
       "      <th>0</th>\n",
       "      <td>1970</td>\n",
       "      <td>JANUARY</td>\n",
       "      <td>MAIZE</td>\n",
       "      <td>100</td>\n",
       "      <td>0.0011</td>\n",
       "    </tr>\n",
       "    <tr>\n",
       "      <th>1</th>\n",
       "      <td>1970</td>\n",
       "      <td>FEBRUARY</td>\n",
       "      <td>MAIZE</td>\n",
       "      <td>100</td>\n",
       "      <td>0.0012</td>\n",
       "    </tr>\n",
       "    <tr>\n",
       "      <th>2</th>\n",
       "      <td>1970</td>\n",
       "      <td>MARCH</td>\n",
       "      <td>MAIZE</td>\n",
       "      <td>100</td>\n",
       "      <td>0.0012</td>\n",
       "    </tr>\n",
       "    <tr>\n",
       "      <th>3</th>\n",
       "      <td>1970</td>\n",
       "      <td>APRIL</td>\n",
       "      <td>MAIZE</td>\n",
       "      <td>100</td>\n",
       "      <td>0.0013</td>\n",
       "    </tr>\n",
       "    <tr>\n",
       "      <th>4</th>\n",
       "      <td>1970</td>\n",
       "      <td>MAY</td>\n",
       "      <td>MAIZE</td>\n",
       "      <td>100</td>\n",
       "      <td>0.0014</td>\n",
       "    </tr>\n",
       "  </tbody>\n",
       "</table>\n",
       "</div>"
      ],
      "text/plain": [
       "   YEAR     MONTH COMMODITY  WEIGHT, KG PER BAG   PRICE, ¢ GH\n",
       "0  1970   JANUARY     MAIZE                 100        0.0011\n",
       "1  1970  FEBRUARY     MAIZE                 100        0.0012\n",
       "2  1970     MARCH     MAIZE                 100        0.0012\n",
       "3  1970     APRIL     MAIZE                 100        0.0013\n",
       "4  1970       MAY     MAIZE                 100        0.0014"
      ]
     },
     "execution_count": 9,
     "metadata": {},
     "output_type": "execute_result"
    }
   ],
   "source": [
    "# checking the total number of rows and columns for the prices data, and print out the first 5 rows\n",
    "print(prices.shape)\n",
    "prices.head()"
   ]
  },
  {
   "cell_type": "code",
   "execution_count": 10,
   "metadata": {},
   "outputs": [
    {
     "name": "stdout",
     "output_type": "stream",
     "text": [
      "<class 'pandas.core.frame.DataFrame'>\n",
      "RangeIndex: 3216 entries, 0 to 3215\n",
      "Data columns (total 5 columns):\n",
      "YEAR                  3216 non-null int64\n",
      "MONTH                 3216 non-null object\n",
      "COMMODITY             3216 non-null object\n",
      "WEIGHT, KG PER BAG    3216 non-null int64\n",
      " PRICE, ¢ GH          3216 non-null float64\n",
      "dtypes: float64(1), int64(2), object(2)\n",
      "memory usage: 125.7+ KB\n"
     ]
    }
   ],
   "source": [
    "prices.info()"
   ]
  },
  {
   "cell_type": "code",
   "execution_count": 11,
   "metadata": {},
   "outputs": [
    {
     "name": "stdout",
     "output_type": "stream",
     "text": [
      "<class 'pandas.core.frame.DataFrame'>\n",
      "RangeIndex: 3216 entries, 0 to 3215\n",
      "Data columns (total 5 columns):\n",
      "YEAR                  3216 non-null int64\n",
      "MONTH                 3216 non-null object\n",
      "COMMODITY             3216 non-null object\n",
      "WEIGHT, KG PER BAG    3216 non-null int64\n",
      "PRICE, ¢ GH           3216 non-null float64\n",
      "dtypes: float64(1), int64(2), object(2)\n",
      "memory usage: 125.7+ KB\n"
     ]
    }
   ],
   "source": [
    "# remove unwanted whitespace in the price column\n",
    "prices.columns = prices.columns.str.strip()\n",
    "prices.info()"
   ]
  },
  {
   "cell_type": "code",
   "execution_count": 12,
   "metadata": {},
   "outputs": [
    {
     "data": {
      "text/html": [
       "<div>\n",
       "<style scoped>\n",
       "    .dataframe tbody tr th:only-of-type {\n",
       "        vertical-align: middle;\n",
       "    }\n",
       "\n",
       "    .dataframe tbody tr th {\n",
       "        vertical-align: top;\n",
       "    }\n",
       "\n",
       "    .dataframe thead th {\n",
       "        text-align: right;\n",
       "    }\n",
       "</style>\n",
       "<table border=\"1\" class=\"dataframe\">\n",
       "  <thead>\n",
       "    <tr style=\"text-align: right;\">\n",
       "      <th></th>\n",
       "      <th>Year</th>\n",
       "      <th>Month</th>\n",
       "      <th>Commodity</th>\n",
       "      <th>Weight(Kg)</th>\n",
       "      <th>Prices(GH¢)</th>\n",
       "    </tr>\n",
       "  </thead>\n",
       "  <tbody>\n",
       "    <tr>\n",
       "      <th>0</th>\n",
       "      <td>1970</td>\n",
       "      <td>JANUARY</td>\n",
       "      <td>MAIZE</td>\n",
       "      <td>100</td>\n",
       "      <td>0.0011</td>\n",
       "    </tr>\n",
       "    <tr>\n",
       "      <th>1</th>\n",
       "      <td>1970</td>\n",
       "      <td>FEBRUARY</td>\n",
       "      <td>MAIZE</td>\n",
       "      <td>100</td>\n",
       "      <td>0.0012</td>\n",
       "    </tr>\n",
       "    <tr>\n",
       "      <th>2</th>\n",
       "      <td>1970</td>\n",
       "      <td>MARCH</td>\n",
       "      <td>MAIZE</td>\n",
       "      <td>100</td>\n",
       "      <td>0.0012</td>\n",
       "    </tr>\n",
       "    <tr>\n",
       "      <th>3</th>\n",
       "      <td>1970</td>\n",
       "      <td>APRIL</td>\n",
       "      <td>MAIZE</td>\n",
       "      <td>100</td>\n",
       "      <td>0.0013</td>\n",
       "    </tr>\n",
       "    <tr>\n",
       "      <th>4</th>\n",
       "      <td>1970</td>\n",
       "      <td>MAY</td>\n",
       "      <td>MAIZE</td>\n",
       "      <td>100</td>\n",
       "      <td>0.0014</td>\n",
       "    </tr>\n",
       "  </tbody>\n",
       "</table>\n",
       "</div>"
      ],
      "text/plain": [
       "   Year     Month Commodity  Weight(Kg)  Prices(GH¢)\n",
       "0  1970   JANUARY     MAIZE         100       0.0011\n",
       "1  1970  FEBRUARY     MAIZE         100       0.0012\n",
       "2  1970     MARCH     MAIZE         100       0.0012\n",
       "3  1970     APRIL     MAIZE         100       0.0013\n",
       "4  1970       MAY     MAIZE         100       0.0014"
      ]
     },
     "execution_count": 12,
     "metadata": {},
     "output_type": "execute_result"
    }
   ],
   "source": [
    "# Rename the prices columns\n",
    "\"\"\"\n",
    "prices.columns = prices.columns.lower()....this does same work as below\n",
    "\"\"\"\n",
    "K = {'YEAR':'Year', \n",
    "     'MONTH':'Month', \n",
    "     'COMMODITY':'Commodity', \n",
    "     'WEIGHT, KG PER BAG':'Weight(Kg)',\n",
    "     \"PRICE, ¢ GH\":\"Prices(GH¢)\"\n",
    "    }\n",
    "prices.rename(columns=K,inplace=True)\n",
    "prices.head()"
   ]
  },
  {
   "cell_type": "code",
   "execution_count": 13,
   "metadata": {},
   "outputs": [],
   "source": [
    "# The month column for the prices data are in strings so i would like to convert them into numbers \n",
    "# to match that in the temperature data\n",
    "\"\"\"\n",
    "prices['Month'] = prices['Month'].replace({'JANUARY':1,'FEBRUARY':2,'MARCH':3,'APRIL':4,'MAY':5,'JUNE':6,'JULY':7,\n",
    "             'AUGUST':8,'SEPTEMBER':9,'OCTOBER':10,'NOVEMBER':11,'DECEMBER':12})\n",
    "\"\"\"\n",
    "M = {'NOVEMBER': 11,\n",
    "     'SEPTEMBER': 9, \n",
    "     'OCTOBER':10,\n",
    "     'AUGUST':8, \n",
    "     'APRIL':4,  \n",
    "     'MARCH':3 ,\n",
    "     'MAY':5,        \n",
    "     'DECEMBER':12,\n",
    "     'JULY':7,  \n",
    "     'FEBRUARY':2, \n",
    "     'JANUARY':1 , \n",
    "     'JUNE':6\n",
    "    }\n",
    "prices['Month'] = prices['Month'].map(M)"
   ]
  },
  {
   "cell_type": "code",
   "execution_count": 14,
   "metadata": {},
   "outputs": [
    {
     "data": {
      "text/html": [
       "<div>\n",
       "<style scoped>\n",
       "    .dataframe tbody tr th:only-of-type {\n",
       "        vertical-align: middle;\n",
       "    }\n",
       "\n",
       "    .dataframe tbody tr th {\n",
       "        vertical-align: top;\n",
       "    }\n",
       "\n",
       "    .dataframe thead th {\n",
       "        text-align: right;\n",
       "    }\n",
       "</style>\n",
       "<table border=\"1\" class=\"dataframe\">\n",
       "  <thead>\n",
       "    <tr style=\"text-align: right;\">\n",
       "      <th></th>\n",
       "      <th>Year</th>\n",
       "      <th>Month</th>\n",
       "      <th>Commodity</th>\n",
       "      <th>Weight(Kg)</th>\n",
       "      <th>Prices(GH¢)</th>\n",
       "    </tr>\n",
       "  </thead>\n",
       "  <tbody>\n",
       "    <tr>\n",
       "      <th>0</th>\n",
       "      <td>1970</td>\n",
       "      <td>1</td>\n",
       "      <td>MAIZE</td>\n",
       "      <td>100</td>\n",
       "      <td>0.0011</td>\n",
       "    </tr>\n",
       "    <tr>\n",
       "      <th>1</th>\n",
       "      <td>1970</td>\n",
       "      <td>2</td>\n",
       "      <td>MAIZE</td>\n",
       "      <td>100</td>\n",
       "      <td>0.0012</td>\n",
       "    </tr>\n",
       "    <tr>\n",
       "      <th>2</th>\n",
       "      <td>1970</td>\n",
       "      <td>3</td>\n",
       "      <td>MAIZE</td>\n",
       "      <td>100</td>\n",
       "      <td>0.0012</td>\n",
       "    </tr>\n",
       "    <tr>\n",
       "      <th>3</th>\n",
       "      <td>1970</td>\n",
       "      <td>4</td>\n",
       "      <td>MAIZE</td>\n",
       "      <td>100</td>\n",
       "      <td>0.0013</td>\n",
       "    </tr>\n",
       "    <tr>\n",
       "      <th>4</th>\n",
       "      <td>1970</td>\n",
       "      <td>5</td>\n",
       "      <td>MAIZE</td>\n",
       "      <td>100</td>\n",
       "      <td>0.0014</td>\n",
       "    </tr>\n",
       "  </tbody>\n",
       "</table>\n",
       "</div>"
      ],
      "text/plain": [
       "   Year  Month Commodity  Weight(Kg)  Prices(GH¢)\n",
       "0  1970      1     MAIZE         100       0.0011\n",
       "1  1970      2     MAIZE         100       0.0012\n",
       "2  1970      3     MAIZE         100       0.0012\n",
       "3  1970      4     MAIZE         100       0.0013\n",
       "4  1970      5     MAIZE         100       0.0014"
      ]
     },
     "execution_count": 14,
     "metadata": {},
     "output_type": "execute_result"
    }
   ],
   "source": [
    "# checking out on the changes made so far on prices\n",
    "prices.head()"
   ]
  },
  {
   "cell_type": "code",
   "execution_count": 77,
   "metadata": {},
   "outputs": [],
   "source": [
    "# create a date column and set as index to merge the data on\n",
    "# prices['Date'] = pd.to_datetime(prices[['Year','Month']].assign(Day=1))\n",
    "# prices = prices.set_index('Date')\n",
    "# prices.head()"
   ]
  },
  {
   "cell_type": "markdown",
   "metadata": {},
   "source": [
    "### MERGING DATA"
   ]
  },
  {
   "cell_type": "code",
   "execution_count": 15,
   "metadata": {},
   "outputs": [
    {
     "name": "stdout",
     "output_type": "stream",
     "text": [
      "(600, 6)\n"
     ]
    },
    {
     "data": {
      "text/html": [
       "<div>\n",
       "<style scoped>\n",
       "    .dataframe tbody tr th:only-of-type {\n",
       "        vertical-align: middle;\n",
       "    }\n",
       "\n",
       "    .dataframe tbody tr th {\n",
       "        vertical-align: top;\n",
       "    }\n",
       "\n",
       "    .dataframe thead th {\n",
       "        text-align: right;\n",
       "    }\n",
       "</style>\n",
       "<table border=\"1\" class=\"dataframe\">\n",
       "  <thead>\n",
       "    <tr style=\"text-align: right;\">\n",
       "      <th></th>\n",
       "      <th>Year</th>\n",
       "      <th>Region</th>\n",
       "      <th>Total_Rainfall (mm)</th>\n",
       "      <th>Temperature (C)</th>\n",
       "      <th>Month</th>\n",
       "      <th>Country</th>\n",
       "    </tr>\n",
       "  </thead>\n",
       "  <tbody>\n",
       "    <tr>\n",
       "      <th>0</th>\n",
       "      <td>2008</td>\n",
       "      <td>WESTERN</td>\n",
       "      <td>1518</td>\n",
       "      <td>25.227102</td>\n",
       "      <td>1</td>\n",
       "      <td>GHA</td>\n",
       "    </tr>\n",
       "    <tr>\n",
       "      <th>1</th>\n",
       "      <td>2008</td>\n",
       "      <td>WESTERN</td>\n",
       "      <td>1518</td>\n",
       "      <td>28.320560</td>\n",
       "      <td>2</td>\n",
       "      <td>GHA</td>\n",
       "    </tr>\n",
       "    <tr>\n",
       "      <th>2</th>\n",
       "      <td>2008</td>\n",
       "      <td>WESTERN</td>\n",
       "      <td>1518</td>\n",
       "      <td>29.402805</td>\n",
       "      <td>3</td>\n",
       "      <td>GHA</td>\n",
       "    </tr>\n",
       "    <tr>\n",
       "      <th>3</th>\n",
       "      <td>2008</td>\n",
       "      <td>WESTERN</td>\n",
       "      <td>1518</td>\n",
       "      <td>29.757010</td>\n",
       "      <td>4</td>\n",
       "      <td>GHA</td>\n",
       "    </tr>\n",
       "    <tr>\n",
       "      <th>4</th>\n",
       "      <td>2008</td>\n",
       "      <td>WESTERN</td>\n",
       "      <td>1518</td>\n",
       "      <td>28.635513</td>\n",
       "      <td>5</td>\n",
       "      <td>GHA</td>\n",
       "    </tr>\n",
       "  </tbody>\n",
       "</table>\n",
       "</div>"
      ],
      "text/plain": [
       "   Year   Region  Total_Rainfall (mm)  Temperature (C)  Month Country\n",
       "0  2008  WESTERN                 1518        25.227102      1     GHA\n",
       "1  2008  WESTERN                 1518        28.320560      2     GHA\n",
       "2  2008  WESTERN                 1518        29.402805      3     GHA\n",
       "3  2008  WESTERN                 1518        29.757010      4     GHA\n",
       "4  2008  WESTERN                 1518        28.635513      5     GHA"
      ]
     },
     "execution_count": 15,
     "metadata": {},
     "output_type": "execute_result"
    }
   ],
   "source": [
    "# merging the rainfall and temperature data on the year column where the data intersect, and we call it df\n",
    "df = pd.merge(rainfall,temperature,on='Year',how='inner')\n",
    "print(df.shape)\n",
    "df.head()"
   ]
  },
  {
   "cell_type": "code",
   "execution_count": 16,
   "metadata": {},
   "outputs": [
    {
     "name": "stdout",
     "output_type": "stream",
     "text": [
      "(3600, 9)\n"
     ]
    },
    {
     "data": {
      "text/html": [
       "<div>\n",
       "<style scoped>\n",
       "    .dataframe tbody tr th:only-of-type {\n",
       "        vertical-align: middle;\n",
       "    }\n",
       "\n",
       "    .dataframe tbody tr th {\n",
       "        vertical-align: top;\n",
       "    }\n",
       "\n",
       "    .dataframe thead th {\n",
       "        text-align: right;\n",
       "    }\n",
       "</style>\n",
       "<table border=\"1\" class=\"dataframe\">\n",
       "  <thead>\n",
       "    <tr style=\"text-align: right;\">\n",
       "      <th></th>\n",
       "      <th>Year</th>\n",
       "      <th>Region</th>\n",
       "      <th>Total_Rainfall (mm)</th>\n",
       "      <th>Temperature (C)</th>\n",
       "      <th>Month</th>\n",
       "      <th>Country</th>\n",
       "      <th>Commodity</th>\n",
       "      <th>Weight(Kg)</th>\n",
       "      <th>Prices(GH¢)</th>\n",
       "    </tr>\n",
       "  </thead>\n",
       "  <tbody>\n",
       "    <tr>\n",
       "      <th>0</th>\n",
       "      <td>2008</td>\n",
       "      <td>WESTERN</td>\n",
       "      <td>1518</td>\n",
       "      <td>25.227102</td>\n",
       "      <td>1</td>\n",
       "      <td>GHA</td>\n",
       "      <td>MAIZE</td>\n",
       "      <td>100</td>\n",
       "      <td>13.694</td>\n",
       "    </tr>\n",
       "    <tr>\n",
       "      <th>1</th>\n",
       "      <td>2008</td>\n",
       "      <td>WESTERN</td>\n",
       "      <td>1518</td>\n",
       "      <td>25.227102</td>\n",
       "      <td>1</td>\n",
       "      <td>GHA</td>\n",
       "      <td>MILLET</td>\n",
       "      <td>93</td>\n",
       "      <td>0.900</td>\n",
       "    </tr>\n",
       "    <tr>\n",
       "      <th>2</th>\n",
       "      <td>2008</td>\n",
       "      <td>WESTERN</td>\n",
       "      <td>1518</td>\n",
       "      <td>25.227102</td>\n",
       "      <td>1</td>\n",
       "      <td>GHA</td>\n",
       "      <td>LOCAL RICE</td>\n",
       "      <td>100</td>\n",
       "      <td>16.170</td>\n",
       "    </tr>\n",
       "    <tr>\n",
       "      <th>3</th>\n",
       "      <td>2008</td>\n",
       "      <td>WESTERN</td>\n",
       "      <td>1518</td>\n",
       "      <td>25.227102</td>\n",
       "      <td>1</td>\n",
       "      <td>GHA</td>\n",
       "      <td>SORGHUM</td>\n",
       "      <td>109</td>\n",
       "      <td>493.150</td>\n",
       "    </tr>\n",
       "    <tr>\n",
       "      <th>4</th>\n",
       "      <td>2008</td>\n",
       "      <td>WESTERN</td>\n",
       "      <td>1518</td>\n",
       "      <td>25.227102</td>\n",
       "      <td>1</td>\n",
       "      <td>GHA</td>\n",
       "      <td>YAM</td>\n",
       "      <td>250</td>\n",
       "      <td>84.270</td>\n",
       "    </tr>\n",
       "  </tbody>\n",
       "</table>\n",
       "</div>"
      ],
      "text/plain": [
       "   Year   Region  Total_Rainfall (mm)  Temperature (C)  Month Country  \\\n",
       "0  2008  WESTERN                 1518        25.227102      1     GHA   \n",
       "1  2008  WESTERN                 1518        25.227102      1     GHA   \n",
       "2  2008  WESTERN                 1518        25.227102      1     GHA   \n",
       "3  2008  WESTERN                 1518        25.227102      1     GHA   \n",
       "4  2008  WESTERN                 1518        25.227102      1     GHA   \n",
       "\n",
       "    Commodity  Weight(Kg)  Prices(GH¢)  \n",
       "0       MAIZE         100       13.694  \n",
       "1      MILLET          93        0.900  \n",
       "2  LOCAL RICE         100       16.170  \n",
       "3     SORGHUM         109      493.150  \n",
       "4         YAM         250       84.270  "
      ]
     },
     "execution_count": 16,
     "metadata": {},
     "output_type": "execute_result"
    }
   ],
   "source": [
    "# now we merge the df data just created from rainfall and temoerature with prices on both year and month\n",
    "DF = pd.merge(df,prices,on=['Year','Month'],how='inner')\n",
    "print(DF.shape)\n",
    "DF.head()"
   ]
  },
  {
   "cell_type": "code",
   "execution_count": 17,
   "metadata": {},
   "outputs": [
    {
     "data": {
      "text/plain": [
       "Year                   0\n",
       "Region                 0\n",
       "Total_Rainfall (mm)    0\n",
       "Temperature (C)        0\n",
       "Month                  0\n",
       "Country                0\n",
       "Commodity              0\n",
       "Weight(Kg)             0\n",
       "Prices(GH¢)            0\n",
       "dtype: int64"
      ]
     },
     "execution_count": 17,
     "metadata": {},
     "output_type": "execute_result"
    }
   ],
   "source": [
    "# check for missing or null values in the merged data called DF\n",
    "DF.isnull().sum()"
   ]
  },
  {
   "cell_type": "code",
   "execution_count": 18,
   "metadata": {},
   "outputs": [
    {
     "name": "stdout",
     "output_type": "stream",
     "text": [
      "<class 'pandas.core.frame.DataFrame'>\n",
      "Int64Index: 3600 entries, 0 to 3599\n",
      "Data columns (total 9 columns):\n",
      "Year                   3600 non-null int64\n",
      "Region                 3600 non-null object\n",
      "Total_Rainfall (mm)    3600 non-null int64\n",
      "Temperature (C)        3600 non-null float64\n",
      "Month                  3600 non-null int64\n",
      "Country                3600 non-null object\n",
      "Commodity              3600 non-null object\n",
      "Weight(Kg)             3600 non-null int64\n",
      "Prices(GH¢)            3600 non-null float64\n",
      "dtypes: float64(2), int64(4), object(3)\n",
      "memory usage: 281.2+ KB\n"
     ]
    }
   ],
   "source": [
    "# information about our data\n",
    "DF.info()"
   ]
  },
  {
   "cell_type": "code",
   "execution_count": 19,
   "metadata": {},
   "outputs": [
    {
     "data": {
      "text/plain": [
       "array(['GHA'], dtype=object)"
      ]
     },
     "execution_count": 19,
     "metadata": {},
     "output_type": "execute_result"
    }
   ],
   "source": [
    "# the data under consideration is fron a single country, ie Ghana\n",
    "DF.Country.unique()"
   ]
  },
  {
   "cell_type": "code",
   "execution_count": 20,
   "metadata": {},
   "outputs": [
    {
     "data": {
      "text/plain": [
       "array(['WESTERN', 'CENTRAL', 'GREATER ACCRA', 'VOLTA', 'EASTERN',\n",
       "       'ASHANTI', 'BRONG AHAFO', 'NORTHERN', 'UPPER EAST', 'UPPER WEST'],\n",
       "      dtype=object)"
      ]
     },
     "execution_count": 20,
     "metadata": {},
     "output_type": "execute_result"
    }
   ],
   "source": [
    "# data is gathered from 10 different regions in Ghana\n",
    "DF.Region.unique()"
   ]
  },
  {
   "cell_type": "code",
   "execution_count": 21,
   "metadata": {},
   "outputs": [
    {
     "data": {
      "text/plain": [
       "Counter({'WESTERN': 360,\n",
       "         'CENTRAL': 360,\n",
       "         'GREATER ACCRA': 360,\n",
       "         'VOLTA': 360,\n",
       "         'EASTERN': 360,\n",
       "         'ASHANTI': 360,\n",
       "         'BRONG AHAFO': 360,\n",
       "         'NORTHERN': 360,\n",
       "         'UPPER EAST': 360,\n",
       "         'UPPER WEST': 360})"
      ]
     },
     "execution_count": 21,
     "metadata": {},
     "output_type": "execute_result"
    }
   ],
   "source": [
    "Counter(DF['Region'])"
   ]
  },
  {
   "cell_type": "code",
   "execution_count": 22,
   "metadata": {},
   "outputs": [
    {
     "data": {
      "text/plain": [
       "array([2008, 2009, 2010, 2011, 2012])"
      ]
     },
     "execution_count": 22,
     "metadata": {},
     "output_type": "execute_result"
    }
   ],
   "source": [
    "# the merged data spans only period from 2008 - 2012\n",
    "DF.Year.unique()"
   ]
  },
  {
   "cell_type": "code",
   "execution_count": 23,
   "metadata": {},
   "outputs": [
    {
     "data": {
      "text/plain": [
       "Counter({2008: 720, 2009: 720, 2010: 720, 2011: 720, 2012: 720})"
      ]
     },
     "execution_count": 23,
     "metadata": {},
     "output_type": "execute_result"
    }
   ],
   "source": [
    "Counter(DF['Year'])"
   ]
  },
  {
   "cell_type": "code",
   "execution_count": 24,
   "metadata": {},
   "outputs": [
    {
     "data": {
      "text/html": [
       "<div>\n",
       "<style scoped>\n",
       "    .dataframe tbody tr th:only-of-type {\n",
       "        vertical-align: middle;\n",
       "    }\n",
       "\n",
       "    .dataframe tbody tr th {\n",
       "        vertical-align: top;\n",
       "    }\n",
       "\n",
       "    .dataframe thead th {\n",
       "        text-align: right;\n",
       "    }\n",
       "</style>\n",
       "<table border=\"1\" class=\"dataframe\">\n",
       "  <thead>\n",
       "    <tr style=\"text-align: right;\">\n",
       "      <th></th>\n",
       "      <th>Year</th>\n",
       "      <th>Total_Rainfall (mm)</th>\n",
       "      <th>Temperature (C)</th>\n",
       "      <th>Month</th>\n",
       "      <th>Weight(Kg)</th>\n",
       "      <th>Prices(GH¢)</th>\n",
       "    </tr>\n",
       "  </thead>\n",
       "  <tbody>\n",
       "    <tr>\n",
       "      <th>count</th>\n",
       "      <td>3600.00000</td>\n",
       "      <td>3600.000000</td>\n",
       "      <td>3600.000000</td>\n",
       "      <td>3600.000000</td>\n",
       "      <td>3600.000000</td>\n",
       "      <td>3600.000000</td>\n",
       "    </tr>\n",
       "    <tr>\n",
       "      <th>mean</th>\n",
       "      <td>2010.00000</td>\n",
       "      <td>1139.560000</td>\n",
       "      <td>27.612726</td>\n",
       "      <td>6.500000</td>\n",
       "      <td>123.833333</td>\n",
       "      <td>106.107817</td>\n",
       "    </tr>\n",
       "    <tr>\n",
       "      <th>std</th>\n",
       "      <td>1.41441</td>\n",
       "      <td>258.574049</td>\n",
       "      <td>1.470138</td>\n",
       "      <td>3.452532</td>\n",
       "      <td>56.727707</td>\n",
       "      <td>187.239546</td>\n",
       "    </tr>\n",
       "    <tr>\n",
       "      <th>min</th>\n",
       "      <td>2008.00000</td>\n",
       "      <td>523.000000</td>\n",
       "      <td>25.227102</td>\n",
       "      <td>1.000000</td>\n",
       "      <td>91.000000</td>\n",
       "      <td>0.007000</td>\n",
       "    </tr>\n",
       "    <tr>\n",
       "      <th>25%</th>\n",
       "      <td>2009.00000</td>\n",
       "      <td>956.000000</td>\n",
       "      <td>26.371592</td>\n",
       "      <td>3.750000</td>\n",
       "      <td>93.000000</td>\n",
       "      <td>14.154750</td>\n",
       "    </tr>\n",
       "    <tr>\n",
       "      <th>50%</th>\n",
       "      <td>2010.00000</td>\n",
       "      <td>1170.500000</td>\n",
       "      <td>27.184251</td>\n",
       "      <td>6.500000</td>\n",
       "      <td>100.000000</td>\n",
       "      <td>33.201500</td>\n",
       "    </tr>\n",
       "    <tr>\n",
       "      <th>75%</th>\n",
       "      <td>2011.00000</td>\n",
       "      <td>1361.000000</td>\n",
       "      <td>28.972586</td>\n",
       "      <td>9.250000</td>\n",
       "      <td>109.000000</td>\n",
       "      <td>94.855000</td>\n",
       "    </tr>\n",
       "    <tr>\n",
       "      <th>max</th>\n",
       "      <td>2012.00000</td>\n",
       "      <td>1749.000000</td>\n",
       "      <td>30.795456</td>\n",
       "      <td>12.000000</td>\n",
       "      <td>250.000000</td>\n",
       "      <td>920.550000</td>\n",
       "    </tr>\n",
       "  </tbody>\n",
       "</table>\n",
       "</div>"
      ],
      "text/plain": [
       "             Year  Total_Rainfall (mm)  Temperature (C)        Month  \\\n",
       "count  3600.00000          3600.000000      3600.000000  3600.000000   \n",
       "mean   2010.00000          1139.560000        27.612726     6.500000   \n",
       "std       1.41441           258.574049         1.470138     3.452532   \n",
       "min    2008.00000           523.000000        25.227102     1.000000   \n",
       "25%    2009.00000           956.000000        26.371592     3.750000   \n",
       "50%    2010.00000          1170.500000        27.184251     6.500000   \n",
       "75%    2011.00000          1361.000000        28.972586     9.250000   \n",
       "max    2012.00000          1749.000000        30.795456    12.000000   \n",
       "\n",
       "        Weight(Kg)  Prices(GH¢)  \n",
       "count  3600.000000  3600.000000  \n",
       "mean    123.833333   106.107817  \n",
       "std      56.727707   187.239546  \n",
       "min      91.000000     0.007000  \n",
       "25%      93.000000    14.154750  \n",
       "50%     100.000000    33.201500  \n",
       "75%     109.000000    94.855000  \n",
       "max     250.000000   920.550000  "
      ]
     },
     "execution_count": 24,
     "metadata": {},
     "output_type": "execute_result"
    }
   ],
   "source": [
    "# descriptive statistics of the merged data\n",
    "DF.describe()"
   ]
  },
  {
   "cell_type": "code",
   "execution_count": 26,
   "metadata": {},
   "outputs": [
    {
     "name": "stderr",
     "output_type": "stream",
     "text": [
      "/home/francisanokye/anaconda3/lib/python3.7/site-packages/scipy/stats/stats.py:1713: FutureWarning: Using a non-tuple sequence for multidimensional indexing is deprecated; use `arr[tuple(seq)]` instead of `arr[seq]`. In the future this will be interpreted as an array index, `arr[np.array(seq)]`, which will result either in an error or a different result.\n",
      "  return np.add.reduce(sorted[indexer] * weights, axis=axis) / sumval\n",
      "/home/francisanokye/anaconda3/lib/python3.7/site-packages/statsmodels/nonparametric/kde.py:488: RuntimeWarning: invalid value encountered in true_divide\n",
      "  binned = fast_linbin(X, a, b, gridsize) / (delta * nobs)\n",
      "/home/francisanokye/anaconda3/lib/python3.7/site-packages/statsmodels/nonparametric/kdetools.py:34: RuntimeWarning: invalid value encountered in double_scalars\n",
      "  FAC1 = 2*(np.pi*bw/RANGE)**2\n",
      "/home/francisanokye/anaconda3/lib/python3.7/site-packages/numpy/core/fromnumeric.py:83: RuntimeWarning: invalid value encountered in reduce\n",
      "  return ufunc.reduce(obj, axis, dtype, out, **passkwargs)\n"
     ]
    },
    {
     "data": {
      "text/plain": [
       "<seaborn.axisgrid.PairGrid at 0x7fdcf3a96c88>"
      ]
     },
     "execution_count": 26,
     "metadata": {},
     "output_type": "execute_result"
    },
    {
     "data": {
      "image/png": "[encoded data removed]",
      "text/plain": [
       "<Figure size 1174.5x1080 with 42 Axes>"
      ]
     },
     "metadata": {
      "needs_background": "light"
     },
     "output_type": "display_data"
    }
   ],
   "source": [
    "# a plot to visualize the entire data and relate the individual variables with one another setting hue to commodity\n",
    "sb.pairplot(DF,hue='Commodity')"
   ]
  },
  {
   "cell_type": "code",
   "execution_count": 27,
   "metadata": {},
   "outputs": [
    {
     "data": {
      "text/html": [
       "<div>\n",
       "<style scoped>\n",
       "    .dataframe tbody tr th:only-of-type {\n",
       "        vertical-align: middle;\n",
       "    }\n",
       "\n",
       "    .dataframe tbody tr th {\n",
       "        vertical-align: top;\n",
       "    }\n",
       "\n",
       "    .dataframe thead th {\n",
       "        text-align: right;\n",
       "    }\n",
       "</style>\n",
       "<table border=\"1\" class=\"dataframe\">\n",
       "  <thead>\n",
       "    <tr style=\"text-align: right;\">\n",
       "      <th></th>\n",
       "      <th>Year</th>\n",
       "      <th>Region</th>\n",
       "      <th>Total_Rainfall (mm)</th>\n",
       "      <th>Temperature (C)</th>\n",
       "      <th>Month</th>\n",
       "      <th>Commodity</th>\n",
       "      <th>Weight(Kg)</th>\n",
       "      <th>Prices(GH¢)</th>\n",
       "    </tr>\n",
       "  </thead>\n",
       "  <tbody>\n",
       "    <tr>\n",
       "      <th>0</th>\n",
       "      <td>2008</td>\n",
       "      <td>WESTERN</td>\n",
       "      <td>1518</td>\n",
       "      <td>25.227102</td>\n",
       "      <td>1</td>\n",
       "      <td>MAIZE</td>\n",
       "      <td>100</td>\n",
       "      <td>13.694</td>\n",
       "    </tr>\n",
       "    <tr>\n",
       "      <th>1</th>\n",
       "      <td>2008</td>\n",
       "      <td>WESTERN</td>\n",
       "      <td>1518</td>\n",
       "      <td>25.227102</td>\n",
       "      <td>1</td>\n",
       "      <td>MILLET</td>\n",
       "      <td>93</td>\n",
       "      <td>0.900</td>\n",
       "    </tr>\n",
       "    <tr>\n",
       "      <th>2</th>\n",
       "      <td>2008</td>\n",
       "      <td>WESTERN</td>\n",
       "      <td>1518</td>\n",
       "      <td>25.227102</td>\n",
       "      <td>1</td>\n",
       "      <td>LOCAL RICE</td>\n",
       "      <td>100</td>\n",
       "      <td>16.170</td>\n",
       "    </tr>\n",
       "    <tr>\n",
       "      <th>3</th>\n",
       "      <td>2008</td>\n",
       "      <td>WESTERN</td>\n",
       "      <td>1518</td>\n",
       "      <td>25.227102</td>\n",
       "      <td>1</td>\n",
       "      <td>SORGHUM</td>\n",
       "      <td>109</td>\n",
       "      <td>493.150</td>\n",
       "    </tr>\n",
       "    <tr>\n",
       "      <th>4</th>\n",
       "      <td>2008</td>\n",
       "      <td>WESTERN</td>\n",
       "      <td>1518</td>\n",
       "      <td>25.227102</td>\n",
       "      <td>1</td>\n",
       "      <td>YAM</td>\n",
       "      <td>250</td>\n",
       "      <td>84.270</td>\n",
       "    </tr>\n",
       "  </tbody>\n",
       "</table>\n",
       "</div>"
      ],
      "text/plain": [
       "   Year   Region  Total_Rainfall (mm)  Temperature (C)  Month   Commodity  \\\n",
       "0  2008  WESTERN                 1518        25.227102      1       MAIZE   \n",
       "1  2008  WESTERN                 1518        25.227102      1      MILLET   \n",
       "2  2008  WESTERN                 1518        25.227102      1  LOCAL RICE   \n",
       "3  2008  WESTERN                 1518        25.227102      1     SORGHUM   \n",
       "4  2008  WESTERN                 1518        25.227102      1         YAM   \n",
       "\n",
       "   Weight(Kg)  Prices(GH¢)  \n",
       "0         100       13.694  \n",
       "1          93        0.900  \n",
       "2         100       16.170  \n",
       "3         109      493.150  \n",
       "4         250       84.270  "
      ]
     },
     "execution_count": 27,
     "metadata": {},
     "output_type": "execute_result"
    }
   ],
   "source": [
    "# Since the country is just Ghana, it does not offer any more information, hence, we drop it\n",
    "DF.drop(columns='Country',axis=1,inplace=True)\n",
    "DF.head()"
   ]
  },
  {
   "cell_type": "code",
   "execution_count": 91,
   "metadata": {},
   "outputs": [
    {
     "name": "stdout",
     "output_type": "stream",
     "text": [
      "Year\n"
     ]
    },
    {
     "name": "stderr",
     "output_type": "stream",
     "text": [
      "/home/francisanokye/anaconda3/lib/python3.7/site-packages/scipy/stats/stats.py:1713: FutureWarning: Using a non-tuple sequence for multidimensional indexing is deprecated; use `arr[tuple(seq)]` instead of `arr[seq]`. In the future this will be interpreted as an array index, `arr[np.array(seq)]`, which will result either in an error or a different result.\n",
      "  return np.add.reduce(sorted[indexer] * weights, axis=axis) / sumval\n"
     ]
    },
    {
     "data": {
      "image/png": "[encoded data removed]",
      "text/plain": [
       "<Figure size 432x288 with 1 Axes>"
      ]
     },
     "metadata": {
      "needs_background": "light"
     },
     "output_type": "display_data"
    },
    {
     "name": "stdout",
     "output_type": "stream",
     "text": [
      "Total_Rainfall (mm)\n"
     ]
    },
    {
     "data": {
      "image/png": "[encoded data removed]",
      "text/plain": [
       "<Figure size 432x288 with 1 Axes>"
      ]
     },
     "metadata": {
      "needs_background": "light"
     },
     "output_type": "display_data"
    },
    {
     "name": "stdout",
     "output_type": "stream",
     "text": [
      "Temperature (C)\n"
     ]
    },
    {
     "data": {
      "image/png": "[encoded data removed]",
      "text/plain": [
       "<Figure size 432x288 with 1 Axes>"
      ]
     },
     "metadata": {
      "needs_background": "light"
     },
     "output_type": "display_data"
    },
    {
     "name": "stdout",
     "output_type": "stream",
     "text": [
      "Month\n"
     ]
    },
    {
     "data": {
      "image/png": "[encoded data removed]",
      "text/plain": [
       "<Figure size 432x288 with 1 Axes>"
      ]
     },
     "metadata": {
      "needs_background": "light"
     },
     "output_type": "display_data"
    },
    {
     "name": "stdout",
     "output_type": "stream",
     "text": [
      "Weight(Kg)\n"
     ]
    },
    {
     "data": {
      "image/png": "[encoded data removed]",
      "text/plain": [
       "<Figure size 432x288 with 1 Axes>"
      ]
     },
     "metadata": {
      "needs_background": "light"
     },
     "output_type": "display_data"
    },
    {
     "name": "stdout",
     "output_type": "stream",
     "text": [
      "Prices(GH¢)\n"
     ]
    },
    {
     "data": {
      "image/png": "[encoded data removed]",
      "text/plain": [
       "<Figure size 432x288 with 1 Axes>"
      ]
     },
     "metadata": {
      "needs_background": "light"
     },
     "output_type": "display_data"
    }
   ],
   "source": [
    "# we plot to visualize the numeric columns\n",
    "C = DF.columns\n",
    "for k in C:\n",
    "    if DF[k].dtype != 'object':\n",
    "        print(k)\n",
    "        sb.distplot(DF[k],hist=True)\n",
    "        plt.xlabel(k)\n",
    "        plt.show()\n",
    "    "
   ]
  },
  {
   "cell_type": "code",
   "execution_count": 92,
   "metadata": {},
   "outputs": [
    {
     "name": "stdout",
     "output_type": "stream",
     "text": [
      "Region\n"
     ]
    },
    {
     "data": {
      "image/png": "[encoded data removed]",
      "text/plain": [
       "<Figure size 432x288 with 1 Axes>"
      ]
     },
     "metadata": {
      "needs_background": "light"
     },
     "output_type": "display_data"
    },
    {
     "name": "stdout",
     "output_type": "stream",
     "text": [
      "Commodity\n"
     ]
    },
    {
     "data": {
      "image/png": "[encoded data removed]",
      "text/plain": [
       "<Figure size 432x288 with 1 Axes>"
      ]
     },
     "metadata": {
      "needs_background": "light"
     },
     "output_type": "display_data"
    }
   ],
   "source": [
    "# we plot to visualize the categorical columns\n",
    "for d in C:\n",
    "    if DF[d].dtype == 'object':\n",
    "        print(d)\n",
    "        sb.countplot(DF[d])\n",
    "        plt.show()"
   ]
  },
  {
   "cell_type": "code",
   "execution_count": 93,
   "metadata": {},
   "outputs": [
    {
     "data": {
      "text/plain": [
       "Counter({'MAIZE': 600,\n",
       "         'MILLET': 600,\n",
       "         'LOCAL RICE': 600,\n",
       "         'SORGHUM': 600,\n",
       "         'YAM': 600,\n",
       "         'COCOYAM': 600})"
      ]
     },
     "execution_count": 93,
     "metadata": {},
     "output_type": "execute_result"
    }
   ],
   "source": [
    "# the commodity variable consists of six different varieties\n",
    "Counter(DF.Commodity)"
   ]
  },
  {
   "cell_type": "code",
   "execution_count": 94,
   "metadata": {},
   "outputs": [
    {
     "data": {
      "text/plain": [
       "250"
      ]
     },
     "execution_count": 94,
     "metadata": {},
     "output_type": "execute_result"
    }
   ],
   "source": [
    "DF['Weight(Kg)'].max()"
   ]
  },
  {
   "cell_type": "code",
   "execution_count": 95,
   "metadata": {},
   "outputs": [
    {
     "data": {
      "text/plain": [
       "91"
      ]
     },
     "execution_count": 95,
     "metadata": {},
     "output_type": "execute_result"
    }
   ],
   "source": [
    "DF['Weight(Kg)'].min()"
   ]
  },
  {
   "cell_type": "code",
   "execution_count": 96,
   "metadata": {},
   "outputs": [
    {
     "data": {
      "text/plain": [
       "123.83333333333333"
      ]
     },
     "execution_count": 96,
     "metadata": {},
     "output_type": "execute_result"
    }
   ],
   "source": [
    "DF['Weight(Kg)'].mean()"
   ]
  },
  {
   "cell_type": "code",
   "execution_count": 28,
   "metadata": {},
   "outputs": [
    {
     "data": {
      "image/png": "[encoded data removed]",
      "text/plain": [
       "<Figure size 432x288 with 2 Axes>"
      ]
     },
     "metadata": {
      "needs_background": "light"
     },
     "output_type": "display_data"
    }
   ],
   "source": [
    "# correlation plot to visualize how the variables relate with one another\n",
    "cor = DF.corr()\n",
    "sb.heatmap(cor,xticklabels= cor.columns.values,yticklabels=cor.columns.values,annot=True,annot_kws={'size':10})\n",
    "plt.show()"
   ]
  },
  {
   "cell_type": "code",
   "execution_count": 29,
   "metadata": {},
   "outputs": [
    {
     "data": {
      "text/html": [
       "<div>\n",
       "<style scoped>\n",
       "    .dataframe tbody tr th:only-of-type {\n",
       "        vertical-align: middle;\n",
       "    }\n",
       "\n",
       "    .dataframe tbody tr th {\n",
       "        vertical-align: top;\n",
       "    }\n",
       "\n",
       "    .dataframe thead th {\n",
       "        text-align: right;\n",
       "    }\n",
       "</style>\n",
       "<table border=\"1\" class=\"dataframe\">\n",
       "  <thead>\n",
       "    <tr style=\"text-align: right;\">\n",
       "      <th></th>\n",
       "      <th>Year</th>\n",
       "      <th>Total_Rainfall (mm)</th>\n",
       "      <th>Temperature (C)</th>\n",
       "      <th>Month</th>\n",
       "      <th>Weight(Kg)</th>\n",
       "      <th>Prices(GH¢)</th>\n",
       "    </tr>\n",
       "  </thead>\n",
       "  <tbody>\n",
       "    <tr>\n",
       "      <th>Year</th>\n",
       "      <td>1.000000</td>\n",
       "      <td>-3.266707e-01</td>\n",
       "      <td>3.237384e-02</td>\n",
       "      <td>0.000000e+00</td>\n",
       "      <td>0.000000e+00</td>\n",
       "      <td>-0.151903</td>\n",
       "    </tr>\n",
       "    <tr>\n",
       "      <th>Total_Rainfall (mm)</th>\n",
       "      <td>-0.326671</td>\n",
       "      <td>1.000000e+00</td>\n",
       "      <td>-6.325596e-03</td>\n",
       "      <td>-1.760703e-16</td>\n",
       "      <td>1.478658e-18</td>\n",
       "      <td>0.072726</td>\n",
       "    </tr>\n",
       "    <tr>\n",
       "      <th>Temperature (C)</th>\n",
       "      <td>0.032374</td>\n",
       "      <td>-6.325596e-03</td>\n",
       "      <td>1.000000e+00</td>\n",
       "      <td>-5.572156e-01</td>\n",
       "      <td>-4.474215e-18</td>\n",
       "      <td>0.006526</td>\n",
       "    </tr>\n",
       "    <tr>\n",
       "      <th>Month</th>\n",
       "      <td>0.000000</td>\n",
       "      <td>-1.760703e-16</td>\n",
       "      <td>-5.572156e-01</td>\n",
       "      <td>1.000000e+00</td>\n",
       "      <td>-8.064276e-20</td>\n",
       "      <td>-0.000349</td>\n",
       "    </tr>\n",
       "    <tr>\n",
       "      <th>Weight(Kg)</th>\n",
       "      <td>0.000000</td>\n",
       "      <td>1.478658e-18</td>\n",
       "      <td>-4.474215e-18</td>\n",
       "      <td>-8.064276e-20</td>\n",
       "      <td>1.000000e+00</td>\n",
       "      <td>0.158063</td>\n",
       "    </tr>\n",
       "    <tr>\n",
       "      <th>Prices(GH¢)</th>\n",
       "      <td>-0.151903</td>\n",
       "      <td>7.272607e-02</td>\n",
       "      <td>6.526127e-03</td>\n",
       "      <td>-3.492945e-04</td>\n",
       "      <td>1.580630e-01</td>\n",
       "      <td>1.000000</td>\n",
       "    </tr>\n",
       "  </tbody>\n",
       "</table>\n",
       "</div>"
      ],
      "text/plain": [
       "                         Year  Total_Rainfall (mm)  Temperature (C)  \\\n",
       "Year                 1.000000        -3.266707e-01     3.237384e-02   \n",
       "Total_Rainfall (mm) -0.326671         1.000000e+00    -6.325596e-03   \n",
       "Temperature (C)      0.032374        -6.325596e-03     1.000000e+00   \n",
       "Month                0.000000        -1.760703e-16    -5.572156e-01   \n",
       "Weight(Kg)           0.000000         1.478658e-18    -4.474215e-18   \n",
       "Prices(GH¢)         -0.151903         7.272607e-02     6.526127e-03   \n",
       "\n",
       "                            Month    Weight(Kg)  Prices(GH¢)  \n",
       "Year                 0.000000e+00  0.000000e+00    -0.151903  \n",
       "Total_Rainfall (mm) -1.760703e-16  1.478658e-18     0.072726  \n",
       "Temperature (C)     -5.572156e-01 -4.474215e-18     0.006526  \n",
       "Month                1.000000e+00 -8.064276e-20    -0.000349  \n",
       "Weight(Kg)          -8.064276e-20  1.000000e+00     0.158063  \n",
       "Prices(GH¢)         -3.492945e-04  1.580630e-01     1.000000  "
      ]
     },
     "execution_count": 29,
     "metadata": {},
     "output_type": "execute_result"
    }
   ],
   "source": [
    "cor"
   ]
  },
  {
   "cell_type": "code",
   "execution_count": 30,
   "metadata": {},
   "outputs": [
    {
     "name": "stdout",
     "output_type": "stream",
     "text": [
      "(3600, 7)\n",
      "(3600,)\n"
     ]
    }
   ],
   "source": [
    "X = DF.drop(columns='Prices(GH¢)',axis=1) # drop the target variable \n",
    "print(X.shape)\n",
    "y = DF['Prices(GH¢)'] # drop the other variables and leave out the target variable which is prices\n",
    "print(y.shape)"
   ]
  },
  {
   "cell_type": "code",
   "execution_count": 31,
   "metadata": {},
   "outputs": [
    {
     "data": {
      "text/plain": [
       "(3600, 7)"
      ]
     },
     "execution_count": 31,
     "metadata": {},
     "output_type": "execute_result"
    }
   ],
   "source": [
    "# encoding the columns with sublevels into numeric using scikit-learn labelencoder\n",
    "from sklearn.preprocessing import LabelEncoder\n",
    "le = LabelEncoder()\n",
    "\n",
    "# Converting categorical columns into numeric\n",
    "X['Commodity'] = le.fit(X['Commodity']).transform(X['Commodity'])\n",
    "X['Region']    = le.fit(X['Region']).transform(X['Region'])\n",
    "\n",
    "# year column treated as numeric but in fact it's a class\n",
    "X['Year']      = le.fit(X['Year']).transform(X['Year']) \n",
    "X.shape"
   ]
  },
  {
   "cell_type": "code",
   "execution_count": 32,
   "metadata": {},
   "outputs": [
    {
     "name": "stdout",
     "output_type": "stream",
     "text": [
      "(2700, 7)\n",
      "(2700,)\n",
      "(900, 7)\n",
      "(900,)\n"
     ]
    }
   ],
   "source": [
    "# importing relevant libraries from scikit-learn\n",
    "from sklearn.model_selection import cross_val_score,train_test_split\n",
    "from sklearn.preprocessing import StandardScaler,PolynomialFeatures\n",
    "\n",
    "# spliting data into train and test\n",
    "X_train,X_test,y_train,y_test = train_test_split(X,y,test_size = 0.25)\n",
    "print(X_train.shape)\n",
    "print(y_train.shape)\n",
    "print(X_test.shape)\n",
    "print(y_test.shape)"
   ]
  },
  {
   "cell_type": "code",
   "execution_count": 33,
   "metadata": {},
   "outputs": [
    {
     "name": "stderr",
     "output_type": "stream",
     "text": [
      "/home/francisanokye/anaconda3/lib/python3.7/site-packages/sklearn/preprocessing/data.py:625: DataConversionWarning: Data with input dtype int64, float64 were all converted to float64 by StandardScaler.\n",
      "  return self.partial_fit(X, y)\n",
      "/home/francisanokye/anaconda3/lib/python3.7/site-packages/ipykernel_launcher.py:7: DataConversionWarning: Data with input dtype int64, float64 were all converted to float64 by StandardScaler.\n",
      "  import sys\n",
      "/home/francisanokye/anaconda3/lib/python3.7/site-packages/ipykernel_launcher.py:7: SettingWithCopyWarning: \n",
      "A value is trying to be set on a copy of a slice from a DataFrame.\n",
      "Try using .loc[row_indexer,col_indexer] = value instead\n",
      "\n",
      "See the caveats in the documentation: http://pandas.pydata.org/pandas-docs/stable/indexing.html#indexing-view-versus-copy\n",
      "  import sys\n",
      "/home/francisanokye/anaconda3/lib/python3.7/site-packages/pandas/core/indexing.py:543: SettingWithCopyWarning: \n",
      "A value is trying to be set on a copy of a slice from a DataFrame.\n",
      "Try using .loc[row_indexer,col_indexer] = value instead\n",
      "\n",
      "See the caveats in the documentation: http://pandas.pydata.org/pandas-docs/stable/indexing.html#indexing-view-versus-copy\n",
      "  self.obj[item] = s\n",
      "/home/francisanokye/anaconda3/lib/python3.7/site-packages/ipykernel_launcher.py:8: DataConversionWarning: Data with input dtype int64, float64 were all converted to float64 by StandardScaler.\n",
      "  \n",
      "/home/francisanokye/anaconda3/lib/python3.7/site-packages/ipykernel_launcher.py:8: SettingWithCopyWarning: \n",
      "A value is trying to be set on a copy of a slice from a DataFrame.\n",
      "Try using .loc[row_indexer,col_indexer] = value instead\n",
      "\n",
      "See the caveats in the documentation: http://pandas.pydata.org/pandas-docs/stable/indexing.html#indexing-view-versus-copy\n",
      "  \n",
      "/home/francisanokye/anaconda3/lib/python3.7/site-packages/pandas/core/indexing.py:543: SettingWithCopyWarning: \n",
      "A value is trying to be set on a copy of a slice from a DataFrame.\n",
      "Try using .loc[row_indexer,col_indexer] = value instead\n",
      "\n",
      "See the caveats in the documentation: http://pandas.pydata.org/pandas-docs/stable/indexing.html#indexing-view-versus-copy\n",
      "  self.obj[item] = s\n"
     ]
    }
   ],
   "source": [
    "# normalizing data using the standard scaler since the different variables have different scales of measurement\n",
    "columns_to_scale = X.columns.tolist()\n",
    "columns_to_scale = [x for x in columns_to_scale if x != 'Prices(GH¢)']\n",
    "# print(columns_to_scale)\n",
    "\n",
    "std_scaler = StandardScaler().fit(X_train[columns_to_scale])\n",
    "X_train[columns_to_scale] = std_scaler.transform(X_train[columns_to_scale])\n",
    "X_test[columns_to_scale] = std_scaler.transform(X_test[columns_to_scale])"
   ]
  },
  {
   "cell_type": "markdown",
   "metadata": {},
   "source": [
    "### BUILDING LINEAR  MODELS WITH CROSS VALIDATION"
   ]
  },
  {
   "cell_type": "code",
   "execution_count": 37,
   "metadata": {},
   "outputs": [],
   "source": [
    "from sklearn.preprocessing import PolynomialFeatures\n",
    "from sklearn.metrics import r2_score,mean_absolute_error,mean_squared_error,mean_squared_log_error\n",
    "from sklearn.linear_model import LinearRegression,Ridge\n",
    "from sklearn.ensemble import GradientBoostingRegressor,RandomForestRegressor\n",
    "from sklearn.svm import SVR\n",
    "from sklearn.neighbors import KNeighborsRegressor\n",
    "import time"
   ]
  },
  {
   "cell_type": "markdown",
   "metadata": {},
   "source": [
    "I will now explore a number of regression algorithms. Their performance when compared to each other may give a first indication on what the most promising algorithms for the dataset are. I can then focus on these to furtehr optimize the hyperparameters.\n",
    "\n",
    "For now, I include the following algorithms:\n",
    "\n",
    "* linear regression (<a href=\"http://scikit-learn.org/stable/modules/linear_model.html#ordinary-least-squares\">Sklearn</a>)\n",
    "* linear regression with L2 regularization (<a href=\"http://scikit-learn.org/stable/modules/linear_model.html#ridge-regression\">Sklearn</a>)\n",
    "* polynomial regression (<a href=\"http://scikit-learn.org/stable/modules/linear_model.html#polynomial-regression-extending-linear-models-with-basis-functions\">Sklearn</a>)\n",
    "* random forest regression (<a href=\"http://scikit-learn.org/stable/modules/generated/sklearn.ensemble.RandomForestRegressor.html#sklearn.ensemble.RandomForestRegressor\">Sklearn</a>)\n",
    "* gradient boosted tree regression (<a href=\"http://scikit-learn.org/stable/modules/ensemble.html#regression\">Sklearn</a>)\n",
    "* nearest neighbor regression (<a href=\"http://scikit-learn.org/stable/modules/neighbors.html#nearest-neighbors-regression\">Sklearn</a>)\n",
    "* support vector regression (<a href=\"http://scikit-learn.org/stable/modules/svm.html#regression\">Sklearn</a>)\n",
    "\n",
    "All algorithm are first run using their default values."
   ]
  },
  {
   "cell_type": "markdown",
   "metadata": {},
   "source": [
    "#### Linear Regression"
   ]
  },
  {
   "cell_type": "code",
   "execution_count": 38,
   "metadata": {},
   "outputs": [
    {
     "name": "stdout",
     "output_type": "stream",
     "text": [
      "The training accuracy of linear regression is 0.20  (+/- 0.07)\n",
      "Time taken to execute algorithm:  0.11 s\n"
     ]
    }
   ],
   "source": [
    "lin = LinearRegression()\n",
    "before = time.time()\n",
    "linscores = cross_val_score(lin,X_train,y_train,cv=10,scoring='r2')\n",
    "print(\"The training accuracy of linear regression is %0.2f  (+/- %0.2f)\" % (linscores.mean(), linscores.std() * 2))\n",
    "after = time.time()\n",
    "print('Time taken to execute algorithm: {:5.2f} s'.format(after - before))"
   ]
  },
  {
   "cell_type": "markdown",
   "metadata": {},
   "source": [
    "#### Polynomial Regression"
   ]
  },
  {
   "cell_type": "code",
   "execution_count": 39,
   "metadata": {},
   "outputs": [
    {
     "name": "stdout",
     "output_type": "stream",
     "text": [
      "The training accuracy of polynomial linear regression is 0.65  (+/- 0.08)\n",
      "Time taken to execute algorithm:  0.08 s\n"
     ]
    }
   ],
   "source": [
    "before = time.time()\n",
    "poly = PolynomialFeatures(degree=2)\n",
    "X_train_poly = poly.fit_transform(X_train)\n",
    "linpoly = LinearRegression()\n",
    "linpolyscores = cross_val_score(linpoly,X_train_poly,y_train,cv=10,scoring='r2')\n",
    "print(\"The training accuracy of polynomial linear regression is %0.2f  (+/- %0.2f)\" %(linpolyscores.mean(), linpolyscores.std()*2))\n",
    "after = time.time()\n",
    "print('Time taken to execute algorithm: {:5.2f} s'.format(after - before))"
   ]
  },
  {
   "cell_type": "markdown",
   "metadata": {},
   "source": [
    "#### GradientBoostingRegressor"
   ]
  },
  {
   "cell_type": "code",
   "execution_count": 40,
   "metadata": {},
   "outputs": [
    {
     "name": "stdout",
     "output_type": "stream",
     "text": [
      "The training accuracy of gradientboostingregressor is 0.98  (+/- 0.01)\n",
      "Time taken to execute algorithm:  1.32 s\n"
     ]
    }
   ],
   "source": [
    "GBR = GradientBoostingRegressor()\n",
    "before = time.time()\n",
    "gbrscores = cross_val_score(GBR,X_train,y_train,cv=10,scoring='r2')\n",
    "print(\"The training accuracy of gradientboostingregressor is %0.2f  (+/- %0.2f)\" %(gbrscores.mean(), gbrscores.std()*2))\n",
    "after = time.time()\n",
    "print('Time taken to execute algorithm: {:5.2f} s'.format(after - before))"
   ]
  },
  {
   "cell_type": "markdown",
   "metadata": {},
   "source": [
    "#### Ridge Regression (Linear least squares with l2 regularization)"
   ]
  },
  {
   "cell_type": "code",
   "execution_count": 41,
   "metadata": {},
   "outputs": [
    {
     "name": "stdout",
     "output_type": "stream",
     "text": [
      "The accuracy for the ridge regrssion is 0.20 (+/- 0.07)\n",
      "Time taken to execute algorithm is:  0.33 s\n"
     ]
    }
   ],
   "source": [
    "ridge = Ridge(alpha=.8)\n",
    "before = time.time()\n",
    "ridgescores = cross_val_score(ridge,X_train,y_train,cv=10,scoring='r2')\n",
    "print(\"The accuracy for the ridge regrssion is %.2f (+/- %.2f)\" %(ridgescores.mean(),ridgescores.std()*2))\n",
    "after = time.time()\n",
    "print('Time taken to execute algorithm is: {:5.2f} s'.format(after - before))                  "
   ]
  },
  {
   "cell_type": "markdown",
   "metadata": {},
   "source": [
    "#### RandomForestRegressor"
   ]
  },
  {
   "cell_type": "code",
   "execution_count": 42,
   "metadata": {},
   "outputs": [
    {
     "name": "stderr",
     "output_type": "stream",
     "text": [
      "/home/francisanokye/anaconda3/lib/python3.7/site-packages/sklearn/ensemble/forest.py:246: FutureWarning: The default value of n_estimators will change from 10 in version 0.20 to 100 in 0.22.\n",
      "  \"10 in version 0.20 to 100 in 0.22.\", FutureWarning)\n",
      "/home/francisanokye/anaconda3/lib/python3.7/site-packages/sklearn/ensemble/forest.py:246: FutureWarning: The default value of n_estimators will change from 10 in version 0.20 to 100 in 0.22.\n",
      "  \"10 in version 0.20 to 100 in 0.22.\", FutureWarning)\n",
      "/home/francisanokye/anaconda3/lib/python3.7/site-packages/sklearn/ensemble/forest.py:246: FutureWarning: The default value of n_estimators will change from 10 in version 0.20 to 100 in 0.22.\n",
      "  \"10 in version 0.20 to 100 in 0.22.\", FutureWarning)\n",
      "/home/francisanokye/anaconda3/lib/python3.7/site-packages/sklearn/ensemble/forest.py:246: FutureWarning: The default value of n_estimators will change from 10 in version 0.20 to 100 in 0.22.\n",
      "  \"10 in version 0.20 to 100 in 0.22.\", FutureWarning)\n",
      "/home/francisanokye/anaconda3/lib/python3.7/site-packages/sklearn/ensemble/forest.py:246: FutureWarning: The default value of n_estimators will change from 10 in version 0.20 to 100 in 0.22.\n",
      "  \"10 in version 0.20 to 100 in 0.22.\", FutureWarning)\n",
      "/home/francisanokye/anaconda3/lib/python3.7/site-packages/sklearn/ensemble/forest.py:246: FutureWarning: The default value of n_estimators will change from 10 in version 0.20 to 100 in 0.22.\n",
      "  \"10 in version 0.20 to 100 in 0.22.\", FutureWarning)\n",
      "/home/francisanokye/anaconda3/lib/python3.7/site-packages/sklearn/ensemble/forest.py:246: FutureWarning: The default value of n_estimators will change from 10 in version 0.20 to 100 in 0.22.\n",
      "  \"10 in version 0.20 to 100 in 0.22.\", FutureWarning)\n",
      "/home/francisanokye/anaconda3/lib/python3.7/site-packages/sklearn/ensemble/forest.py:246: FutureWarning: The default value of n_estimators will change from 10 in version 0.20 to 100 in 0.22.\n",
      "  \"10 in version 0.20 to 100 in 0.22.\", FutureWarning)\n"
     ]
    },
    {
     "name": "stdout",
     "output_type": "stream",
     "text": [
      "The accuracy for the random forest regressor is 1.00 (+/- 0.00)\n",
      "Time taken to execute algorithm is :  0.62 s\n"
     ]
    },
    {
     "name": "stderr",
     "output_type": "stream",
     "text": [
      "/home/francisanokye/anaconda3/lib/python3.7/site-packages/sklearn/ensemble/forest.py:246: FutureWarning: The default value of n_estimators will change from 10 in version 0.20 to 100 in 0.22.\n",
      "  \"10 in version 0.20 to 100 in 0.22.\", FutureWarning)\n",
      "/home/francisanokye/anaconda3/lib/python3.7/site-packages/sklearn/ensemble/forest.py:246: FutureWarning: The default value of n_estimators will change from 10 in version 0.20 to 100 in 0.22.\n",
      "  \"10 in version 0.20 to 100 in 0.22.\", FutureWarning)\n"
     ]
    }
   ],
   "source": [
    "randforreg = RandomForestRegressor()\n",
    "before = time.time()\n",
    "ranrgscores = cross_val_score(randforreg,X_train,y_train,cv=10,scoring='r2')\n",
    "print(\"The accuracy for the random forest regressor is %.2f (+/- %.2f)\" % (ranrgscores.mean(),ranrgscores.std()*2))\n",
    "after = time.time()\n",
    "print(\"Time taken to execute algorithm is : {:5.2f} s\".format(after - before))"
   ]
  },
  {
   "cell_type": "markdown",
   "metadata": {},
   "source": [
    "#### Support vector regressor (SVR)"
   ]
  },
  {
   "cell_type": "code",
   "execution_count": 52,
   "metadata": {},
   "outputs": [
    {
     "name": "stdout",
     "output_type": "stream",
     "text": [
      "when Kernel is linear\n",
      "The accuracy for the support vector regressor is -0.18 (+/- 0.08)\n",
      "Time taken to execute algorithm is  2.64\n",
      "******************************************************************************************************************************************************\n",
      "when Kernel is poly\n"
     ]
    },
    {
     "name": "stderr",
     "output_type": "stream",
     "text": [
      "/home/francisanokye/anaconda3/lib/python3.7/site-packages/sklearn/svm/base.py:196: FutureWarning: The default value of gamma will change from 'auto' to 'scale' in version 0.22 to account better for unscaled features. Set gamma explicitly to 'auto' or 'scale' to avoid this warning.\n",
      "  \"avoid this warning.\", FutureWarning)\n",
      "/home/francisanokye/anaconda3/lib/python3.7/site-packages/sklearn/svm/base.py:196: FutureWarning: The default value of gamma will change from 'auto' to 'scale' in version 0.22 to account better for unscaled features. Set gamma explicitly to 'auto' or 'scale' to avoid this warning.\n",
      "  \"avoid this warning.\", FutureWarning)\n",
      "/home/francisanokye/anaconda3/lib/python3.7/site-packages/sklearn/svm/base.py:196: FutureWarning: The default value of gamma will change from 'auto' to 'scale' in version 0.22 to account better for unscaled features. Set gamma explicitly to 'auto' or 'scale' to avoid this warning.\n",
      "  \"avoid this warning.\", FutureWarning)\n",
      "/home/francisanokye/anaconda3/lib/python3.7/site-packages/sklearn/svm/base.py:196: FutureWarning: The default value of gamma will change from 'auto' to 'scale' in version 0.22 to account better for unscaled features. Set gamma explicitly to 'auto' or 'scale' to avoid this warning.\n",
      "  \"avoid this warning.\", FutureWarning)\n",
      "/home/francisanokye/anaconda3/lib/python3.7/site-packages/sklearn/svm/base.py:196: FutureWarning: The default value of gamma will change from 'auto' to 'scale' in version 0.22 to account better for unscaled features. Set gamma explicitly to 'auto' or 'scale' to avoid this warning.\n",
      "  \"avoid this warning.\", FutureWarning)\n",
      "/home/francisanokye/anaconda3/lib/python3.7/site-packages/sklearn/svm/base.py:196: FutureWarning: The default value of gamma will change from 'auto' to 'scale' in version 0.22 to account better for unscaled features. Set gamma explicitly to 'auto' or 'scale' to avoid this warning.\n",
      "  \"avoid this warning.\", FutureWarning)\n",
      "/home/francisanokye/anaconda3/lib/python3.7/site-packages/sklearn/svm/base.py:196: FutureWarning: The default value of gamma will change from 'auto' to 'scale' in version 0.22 to account better for unscaled features. Set gamma explicitly to 'auto' or 'scale' to avoid this warning.\n",
      "  \"avoid this warning.\", FutureWarning)\n",
      "/home/francisanokye/anaconda3/lib/python3.7/site-packages/sklearn/svm/base.py:196: FutureWarning: The default value of gamma will change from 'auto' to 'scale' in version 0.22 to account better for unscaled features. Set gamma explicitly to 'auto' or 'scale' to avoid this warning.\n",
      "  \"avoid this warning.\", FutureWarning)\n",
      "/home/francisanokye/anaconda3/lib/python3.7/site-packages/sklearn/svm/base.py:196: FutureWarning: The default value of gamma will change from 'auto' to 'scale' in version 0.22 to account better for unscaled features. Set gamma explicitly to 'auto' or 'scale' to avoid this warning.\n",
      "  \"avoid this warning.\", FutureWarning)\n",
      "/home/francisanokye/anaconda3/lib/python3.7/site-packages/sklearn/svm/base.py:196: FutureWarning: The default value of gamma will change from 'auto' to 'scale' in version 0.22 to account better for unscaled features. Set gamma explicitly to 'auto' or 'scale' to avoid this warning.\n",
      "  \"avoid this warning.\", FutureWarning)\n"
     ]
    },
    {
     "name": "stdout",
     "output_type": "stream",
     "text": [
      "The accuracy for the support vector regressor is -0.16 (+/- 0.08)\n",
      "Time taken to execute algorithm is  2.81\n",
      "******************************************************************************************************************************************************\n",
      "when Kernel is rbf\n"
     ]
    },
    {
     "name": "stderr",
     "output_type": "stream",
     "text": [
      "/home/francisanokye/anaconda3/lib/python3.7/site-packages/sklearn/svm/base.py:196: FutureWarning: The default value of gamma will change from 'auto' to 'scale' in version 0.22 to account better for unscaled features. Set gamma explicitly to 'auto' or 'scale' to avoid this warning.\n",
      "  \"avoid this warning.\", FutureWarning)\n",
      "/home/francisanokye/anaconda3/lib/python3.7/site-packages/sklearn/svm/base.py:196: FutureWarning: The default value of gamma will change from 'auto' to 'scale' in version 0.22 to account better for unscaled features. Set gamma explicitly to 'auto' or 'scale' to avoid this warning.\n",
      "  \"avoid this warning.\", FutureWarning)\n",
      "/home/francisanokye/anaconda3/lib/python3.7/site-packages/sklearn/svm/base.py:196: FutureWarning: The default value of gamma will change from 'auto' to 'scale' in version 0.22 to account better for unscaled features. Set gamma explicitly to 'auto' or 'scale' to avoid this warning.\n",
      "  \"avoid this warning.\", FutureWarning)\n",
      "/home/francisanokye/anaconda3/lib/python3.7/site-packages/sklearn/svm/base.py:196: FutureWarning: The default value of gamma will change from 'auto' to 'scale' in version 0.22 to account better for unscaled features. Set gamma explicitly to 'auto' or 'scale' to avoid this warning.\n",
      "  \"avoid this warning.\", FutureWarning)\n",
      "/home/francisanokye/anaconda3/lib/python3.7/site-packages/sklearn/svm/base.py:196: FutureWarning: The default value of gamma will change from 'auto' to 'scale' in version 0.22 to account better for unscaled features. Set gamma explicitly to 'auto' or 'scale' to avoid this warning.\n",
      "  \"avoid this warning.\", FutureWarning)\n",
      "/home/francisanokye/anaconda3/lib/python3.7/site-packages/sklearn/svm/base.py:196: FutureWarning: The default value of gamma will change from 'auto' to 'scale' in version 0.22 to account better for unscaled features. Set gamma explicitly to 'auto' or 'scale' to avoid this warning.\n",
      "  \"avoid this warning.\", FutureWarning)\n",
      "/home/francisanokye/anaconda3/lib/python3.7/site-packages/sklearn/svm/base.py:196: FutureWarning: The default value of gamma will change from 'auto' to 'scale' in version 0.22 to account better for unscaled features. Set gamma explicitly to 'auto' or 'scale' to avoid this warning.\n",
      "  \"avoid this warning.\", FutureWarning)\n",
      "/home/francisanokye/anaconda3/lib/python3.7/site-packages/sklearn/svm/base.py:196: FutureWarning: The default value of gamma will change from 'auto' to 'scale' in version 0.22 to account better for unscaled features. Set gamma explicitly to 'auto' or 'scale' to avoid this warning.\n",
      "  \"avoid this warning.\", FutureWarning)\n",
      "/home/francisanokye/anaconda3/lib/python3.7/site-packages/sklearn/svm/base.py:196: FutureWarning: The default value of gamma will change from 'auto' to 'scale' in version 0.22 to account better for unscaled features. Set gamma explicitly to 'auto' or 'scale' to avoid this warning.\n",
      "  \"avoid this warning.\", FutureWarning)\n",
      "/home/francisanokye/anaconda3/lib/python3.7/site-packages/sklearn/svm/base.py:196: FutureWarning: The default value of gamma will change from 'auto' to 'scale' in version 0.22 to account better for unscaled features. Set gamma explicitly to 'auto' or 'scale' to avoid this warning.\n",
      "  \"avoid this warning.\", FutureWarning)\n"
     ]
    },
    {
     "name": "stdout",
     "output_type": "stream",
     "text": [
      "The accuracy for the support vector regressor is -0.10 (+/- 0.06)\n",
      "Time taken to execute algorithm is  4.06\n",
      "******************************************************************************************************************************************************\n"
     ]
    }
   ],
   "source": [
    "kernel = ['linear', 'poly', 'rbf']\n",
    "for i in kernel:\n",
    "    print(\"when Kernel is {}\".format(i))\n",
    "    svr = SVR(kernel=i,C=1)\n",
    "    before = time.time()\n",
    "    svrscores = cross_val_score(svr, X_train,y_train,cv=10,scoring='r2')\n",
    "    print(\"The accuracy for the support vector regressor is %.2f (+/- %.2f)\" % (svrscores.mean(),svrscores.std()*2))\n",
    "    after = time.time()\n",
    "    print(\"Time taken to execute algorithm is {:5.2f}\".format(after - before))\n",
    "    print(\"***\" * 50)"
   ]
  },
  {
   "cell_type": "markdown",
   "metadata": {},
   "source": [
    "## KNeighborsRegressor"
   ]
  },
  {
   "cell_type": "code",
   "execution_count": 53,
   "metadata": {},
   "outputs": [
    {
     "name": "stdout",
     "output_type": "stream",
     "text": [
      "The accuracy for the nearest neighbor regressor is 0.72 (+/- 0.07)\n",
      "Time taken to execute algorithm is  2.13\n"
     ]
    }
   ],
   "source": [
    "knr = KNeighborsRegressor(n_neighbors=5,n_jobs=-1,weights='uniform')\n",
    "before = time.time()\n",
    "knrscores = cross_val_score(knr,X_train,y_train,cv=10,scoring='r2')\n",
    "print(\"The accuracy for the nearest neighbor regressor is %.2f (+/- %.2f)\" %(knrscores.mean(),knrscores.std()*2))\n",
    "after = time.time()\n",
    "print(\"Time taken to execute algorithm is {:5.2f}\".format(after - before))"
   ]
  },
  {
   "cell_type": "markdown",
   "metadata": {},
   "source": [
    "The **RandomForestRegressor** has performed the best with perfect accuracy followed by GradientBoostingRegressor and KNeighborsRegressor,"
   ]
  },
  {
   "cell_type": "markdown",
   "metadata": {},
   "source": [
    "The GradientBoostingRegressor has been the recent favorite among many machine-learning competitions - it performed relatively better compared to other algorithms except for RandomForestRegressor. Obviously, I did not perform any parameter tuning, but rather used the default values. Now let's see if I can increase the performance by tuning some of the main parameters:"
   ]
  },
  {
   "cell_type": "code",
   "execution_count": 132,
   "metadata": {},
   "outputs": [
    {
     "name": "stdout",
     "output_type": "stream",
     "text": [
      "0.980 (+/-0.009) for {'learning_rate': 0.1, 'max_depth': 3, 'n_estimators': 100}\n",
      "0.986 (+/-0.006) for {'learning_rate': 0.1, 'max_depth': 3, 'n_estimators': 200}\n",
      "0.988 (+/-0.006) for {'learning_rate': 0.1, 'max_depth': 3, 'n_estimators': 300}\n",
      "0.990 (+/-0.005) for {'learning_rate': 0.1, 'max_depth': 3, 'n_estimators': 400}\n",
      "0.991 (+/-0.005) for {'learning_rate': 0.1, 'max_depth': 3, 'n_estimators': 500}\n",
      "0.999 (+/-0.000) for {'learning_rate': 0.1, 'max_depth': 5, 'n_estimators': 100}\n",
      "1.000 (+/-0.000) for {'learning_rate': 0.1, 'max_depth': 5, 'n_estimators': 200}\n",
      "1.000 (+/-0.000) for {'learning_rate': 0.1, 'max_depth': 5, 'n_estimators': 300}\n",
      "1.000 (+/-0.000) for {'learning_rate': 0.1, 'max_depth': 5, 'n_estimators': 400}\n",
      "1.000 (+/-0.000) for {'learning_rate': 0.1, 'max_depth': 5, 'n_estimators': 500}\n",
      "1.000 (+/-0.000) for {'learning_rate': 0.1, 'max_depth': 7, 'n_estimators': 100}\n",
      "1.000 (+/-0.000) for {'learning_rate': 0.1, 'max_depth': 7, 'n_estimators': 200}\n",
      "1.000 (+/-0.000) for {'learning_rate': 0.1, 'max_depth': 7, 'n_estimators': 300}\n",
      "1.000 (+/-0.000) for {'learning_rate': 0.1, 'max_depth': 7, 'n_estimators': 400}\n",
      "1.000 (+/-0.000) for {'learning_rate': 0.1, 'max_depth': 7, 'n_estimators': 500}\n",
      "1.000 (+/-0.000) for {'learning_rate': 0.1, 'max_depth': 9, 'n_estimators': 100}\n",
      "1.000 (+/-0.000) for {'learning_rate': 0.1, 'max_depth': 9, 'n_estimators': 200}\n",
      "1.000 (+/-0.000) for {'learning_rate': 0.1, 'max_depth': 9, 'n_estimators': 300}\n",
      "1.000 (+/-0.000) for {'learning_rate': 0.1, 'max_depth': 9, 'n_estimators': 400}\n",
      "1.000 (+/-0.000) for {'learning_rate': 0.1, 'max_depth': 9, 'n_estimators': 500}\n",
      "1.000 (+/-0.000) for {'learning_rate': 0.1, 'max_depth': 11, 'n_estimators': 100}\n",
      "1.000 (+/-0.000) for {'learning_rate': 0.1, 'max_depth': 11, 'n_estimators': 200}\n",
      "1.000 (+/-0.000) for {'learning_rate': 0.1, 'max_depth': 11, 'n_estimators': 300}\n",
      "1.000 (+/-0.000) for {'learning_rate': 0.1, 'max_depth': 11, 'n_estimators': 400}\n",
      "1.000 (+/-0.000) for {'learning_rate': 0.1, 'max_depth': 11, 'n_estimators': 500}\n",
      "0.986 (+/-0.006) for {'learning_rate': 0.2, 'max_depth': 3, 'n_estimators': 100}\n",
      "0.991 (+/-0.004) for {'learning_rate': 0.2, 'max_depth': 3, 'n_estimators': 200}\n",
      "0.994 (+/-0.002) for {'learning_rate': 0.2, 'max_depth': 3, 'n_estimators': 300}\n",
      "0.995 (+/-0.002) for {'learning_rate': 0.2, 'max_depth': 3, 'n_estimators': 400}\n",
      "0.996 (+/-0.001) for {'learning_rate': 0.2, 'max_depth': 3, 'n_estimators': 500}\n",
      "1.000 (+/-0.000) for {'learning_rate': 0.2, 'max_depth': 5, 'n_estimators': 100}\n",
      "1.000 (+/-0.000) for {'learning_rate': 0.2, 'max_depth': 5, 'n_estimators': 200}\n",
      "1.000 (+/-0.000) for {'learning_rate': 0.2, 'max_depth': 5, 'n_estimators': 300}\n",
      "1.000 (+/-0.000) for {'learning_rate': 0.2, 'max_depth': 5, 'n_estimators': 400}\n",
      "1.000 (+/-0.000) for {'learning_rate': 0.2, 'max_depth': 5, 'n_estimators': 500}\n",
      "1.000 (+/-0.000) for {'learning_rate': 0.2, 'max_depth': 7, 'n_estimators': 100}\n",
      "1.000 (+/-0.000) for {'learning_rate': 0.2, 'max_depth': 7, 'n_estimators': 200}\n",
      "1.000 (+/-0.000) for {'learning_rate': 0.2, 'max_depth': 7, 'n_estimators': 300}\n",
      "1.000 (+/-0.000) for {'learning_rate': 0.2, 'max_depth': 7, 'n_estimators': 400}\n",
      "1.000 (+/-0.000) for {'learning_rate': 0.2, 'max_depth': 7, 'n_estimators': 500}\n",
      "1.000 (+/-0.000) for {'learning_rate': 0.2, 'max_depth': 9, 'n_estimators': 100}\n",
      "1.000 (+/-0.000) for {'learning_rate': 0.2, 'max_depth': 9, 'n_estimators': 200}\n",
      "1.000 (+/-0.000) for {'learning_rate': 0.2, 'max_depth': 9, 'n_estimators': 300}\n",
      "1.000 (+/-0.000) for {'learning_rate': 0.2, 'max_depth': 9, 'n_estimators': 400}\n",
      "1.000 (+/-0.000) for {'learning_rate': 0.2, 'max_depth': 9, 'n_estimators': 500}\n",
      "1.000 (+/-0.000) for {'learning_rate': 0.2, 'max_depth': 11, 'n_estimators': 100}\n",
      "1.000 (+/-0.000) for {'learning_rate': 0.2, 'max_depth': 11, 'n_estimators': 200}\n",
      "1.000 (+/-0.000) for {'learning_rate': 0.2, 'max_depth': 11, 'n_estimators': 300}\n",
      "1.000 (+/-0.000) for {'learning_rate': 0.2, 'max_depth': 11, 'n_estimators': 400}\n",
      "1.000 (+/-0.000) for {'learning_rate': 0.2, 'max_depth': 11, 'n_estimators': 500}\n",
      "0.990 (+/-0.004) for {'learning_rate': 0.3, 'max_depth': 3, 'n_estimators': 100}\n",
      "0.994 (+/-0.002) for {'learning_rate': 0.3, 'max_depth': 3, 'n_estimators': 200}\n",
      "0.996 (+/-0.002) for {'learning_rate': 0.3, 'max_depth': 3, 'n_estimators': 300}\n",
      "0.997 (+/-0.001) for {'learning_rate': 0.3, 'max_depth': 3, 'n_estimators': 400}\n",
      "0.998 (+/-0.001) for {'learning_rate': 0.3, 'max_depth': 3, 'n_estimators': 500}\n",
      "1.000 (+/-0.000) for {'learning_rate': 0.3, 'max_depth': 5, 'n_estimators': 100}\n",
      "1.000 (+/-0.000) for {'learning_rate': 0.3, 'max_depth': 5, 'n_estimators': 200}\n",
      "1.000 (+/-0.000) for {'learning_rate': 0.3, 'max_depth': 5, 'n_estimators': 300}\n",
      "1.000 (+/-0.000) for {'learning_rate': 0.3, 'max_depth': 5, 'n_estimators': 400}\n",
      "1.000 (+/-0.000) for {'learning_rate': 0.3, 'max_depth': 5, 'n_estimators': 500}\n",
      "1.000 (+/-0.000) for {'learning_rate': 0.3, 'max_depth': 7, 'n_estimators': 100}\n",
      "1.000 (+/-0.000) for {'learning_rate': 0.3, 'max_depth': 7, 'n_estimators': 200}\n",
      "1.000 (+/-0.000) for {'learning_rate': 0.3, 'max_depth': 7, 'n_estimators': 300}\n",
      "1.000 (+/-0.000) for {'learning_rate': 0.3, 'max_depth': 7, 'n_estimators': 400}\n",
      "1.000 (+/-0.000) for {'learning_rate': 0.3, 'max_depth': 7, 'n_estimators': 500}\n",
      "1.000 (+/-0.000) for {'learning_rate': 0.3, 'max_depth': 9, 'n_estimators': 100}\n",
      "1.000 (+/-0.000) for {'learning_rate': 0.3, 'max_depth': 9, 'n_estimators': 200}\n",
      "1.000 (+/-0.000) for {'learning_rate': 0.3, 'max_depth': 9, 'n_estimators': 300}\n",
      "1.000 (+/-0.000) for {'learning_rate': 0.3, 'max_depth': 9, 'n_estimators': 400}\n",
      "1.000 (+/-0.000) for {'learning_rate': 0.3, 'max_depth': 9, 'n_estimators': 500}\n",
      "1.000 (+/-0.000) for {'learning_rate': 0.3, 'max_depth': 11, 'n_estimators': 100}\n",
      "1.000 (+/-0.000) for {'learning_rate': 0.3, 'max_depth': 11, 'n_estimators': 200}\n",
      "1.000 (+/-0.000) for {'learning_rate': 0.3, 'max_depth': 11, 'n_estimators': 300}\n",
      "1.000 (+/-0.000) for {'learning_rate': 0.3, 'max_depth': 11, 'n_estimators': 400}\n",
      "1.000 (+/-0.000) for {'learning_rate': 0.3, 'max_depth': 11, 'n_estimators': 500}\n",
      "0.992 (+/-0.004) for {'learning_rate': 0.4, 'max_depth': 3, 'n_estimators': 100}\n",
      "0.996 (+/-0.002) for {'learning_rate': 0.4, 'max_depth': 3, 'n_estimators': 200}\n",
      "0.997 (+/-0.001) for {'learning_rate': 0.4, 'max_depth': 3, 'n_estimators': 300}\n",
      "0.998 (+/-0.001) for {'learning_rate': 0.4, 'max_depth': 3, 'n_estimators': 400}\n",
      "0.999 (+/-0.001) for {'learning_rate': 0.4, 'max_depth': 3, 'n_estimators': 500}\n",
      "1.000 (+/-0.000) for {'learning_rate': 0.4, 'max_depth': 5, 'n_estimators': 100}\n",
      "1.000 (+/-0.000) for {'learning_rate': 0.4, 'max_depth': 5, 'n_estimators': 200}\n",
      "1.000 (+/-0.000) for {'learning_rate': 0.4, 'max_depth': 5, 'n_estimators': 300}\n",
      "1.000 (+/-0.000) for {'learning_rate': 0.4, 'max_depth': 5, 'n_estimators': 400}\n",
      "1.000 (+/-0.000) for {'learning_rate': 0.4, 'max_depth': 5, 'n_estimators': 500}\n",
      "1.000 (+/-0.000) for {'learning_rate': 0.4, 'max_depth': 7, 'n_estimators': 100}\n",
      "1.000 (+/-0.000) for {'learning_rate': 0.4, 'max_depth': 7, 'n_estimators': 200}\n",
      "1.000 (+/-0.000) for {'learning_rate': 0.4, 'max_depth': 7, 'n_estimators': 300}\n",
      "1.000 (+/-0.000) for {'learning_rate': 0.4, 'max_depth': 7, 'n_estimators': 400}\n",
      "1.000 (+/-0.000) for {'learning_rate': 0.4, 'max_depth': 7, 'n_estimators': 500}\n",
      "1.000 (+/-0.000) for {'learning_rate': 0.4, 'max_depth': 9, 'n_estimators': 100}\n",
      "1.000 (+/-0.000) for {'learning_rate': 0.4, 'max_depth': 9, 'n_estimators': 200}\n",
      "1.000 (+/-0.000) for {'learning_rate': 0.4, 'max_depth': 9, 'n_estimators': 300}\n",
      "1.000 (+/-0.000) for {'learning_rate': 0.4, 'max_depth': 9, 'n_estimators': 400}\n",
      "1.000 (+/-0.000) for {'learning_rate': 0.4, 'max_depth': 9, 'n_estimators': 500}\n",
      "1.000 (+/-0.000) for {'learning_rate': 0.4, 'max_depth': 11, 'n_estimators': 100}\n",
      "1.000 (+/-0.000) for {'learning_rate': 0.4, 'max_depth': 11, 'n_estimators': 200}\n",
      "1.000 (+/-0.000) for {'learning_rate': 0.4, 'max_depth': 11, 'n_estimators': 300}\n",
      "1.000 (+/-0.000) for {'learning_rate': 0.4, 'max_depth': 11, 'n_estimators': 400}\n",
      "1.000 (+/-0.000) for {'learning_rate': 0.4, 'max_depth': 11, 'n_estimators': 500}\n",
      "0.993 (+/-0.003) for {'learning_rate': 0.5, 'max_depth': 3, 'n_estimators': 100}\n",
      "0.997 (+/-0.001) for {'learning_rate': 0.5, 'max_depth': 3, 'n_estimators': 200}\n",
      "0.998 (+/-0.001) for {'learning_rate': 0.5, 'max_depth': 3, 'n_estimators': 300}\n",
      "0.999 (+/-0.000) for {'learning_rate': 0.5, 'max_depth': 3, 'n_estimators': 400}\n",
      "0.999 (+/-0.000) for {'learning_rate': 0.5, 'max_depth': 3, 'n_estimators': 500}\n",
      "1.000 (+/-0.000) for {'learning_rate': 0.5, 'max_depth': 5, 'n_estimators': 100}\n",
      "1.000 (+/-0.000) for {'learning_rate': 0.5, 'max_depth': 5, 'n_estimators': 200}\n",
      "1.000 (+/-0.000) for {'learning_rate': 0.5, 'max_depth': 5, 'n_estimators': 300}\n",
      "1.000 (+/-0.000) for {'learning_rate': 0.5, 'max_depth': 5, 'n_estimators': 400}\n",
      "1.000 (+/-0.000) for {'learning_rate': 0.5, 'max_depth': 5, 'n_estimators': 500}\n",
      "1.000 (+/-0.000) for {'learning_rate': 0.5, 'max_depth': 7, 'n_estimators': 100}\n",
      "1.000 (+/-0.000) for {'learning_rate': 0.5, 'max_depth': 7, 'n_estimators': 200}\n",
      "1.000 (+/-0.000) for {'learning_rate': 0.5, 'max_depth': 7, 'n_estimators': 300}\n",
      "1.000 (+/-0.000) for {'learning_rate': 0.5, 'max_depth': 7, 'n_estimators': 400}\n",
      "1.000 (+/-0.000) for {'learning_rate': 0.5, 'max_depth': 7, 'n_estimators': 500}\n",
      "1.000 (+/-0.000) for {'learning_rate': 0.5, 'max_depth': 9, 'n_estimators': 100}\n",
      "1.000 (+/-0.000) for {'learning_rate': 0.5, 'max_depth': 9, 'n_estimators': 200}\n",
      "1.000 (+/-0.000) for {'learning_rate': 0.5, 'max_depth': 9, 'n_estimators': 300}\n",
      "1.000 (+/-0.000) for {'learning_rate': 0.5, 'max_depth': 9, 'n_estimators': 400}\n",
      "1.000 (+/-0.000) for {'learning_rate': 0.5, 'max_depth': 9, 'n_estimators': 500}\n",
      "1.000 (+/-0.000) for {'learning_rate': 0.5, 'max_depth': 11, 'n_estimators': 100}\n",
      "1.000 (+/-0.000) for {'learning_rate': 0.5, 'max_depth': 11, 'n_estimators': 200}\n",
      "1.000 (+/-0.000) for {'learning_rate': 0.5, 'max_depth': 11, 'n_estimators': 300}\n",
      "1.000 (+/-0.000) for {'learning_rate': 0.5, 'max_depth': 11, 'n_estimators': 400}\n",
      "1.000 (+/-0.000) for {'learning_rate': 0.5, 'max_depth': 11, 'n_estimators': 500}\n",
      "0.994 (+/-0.003) for {'learning_rate': 0.6, 'max_depth': 3, 'n_estimators': 100}\n",
      "0.997 (+/-0.001) for {'learning_rate': 0.6, 'max_depth': 3, 'n_estimators': 200}\n",
      "0.998 (+/-0.001) for {'learning_rate': 0.6, 'max_depth': 3, 'n_estimators': 300}\n",
      "0.999 (+/-0.001) for {'learning_rate': 0.6, 'max_depth': 3, 'n_estimators': 400}\n",
      "0.999 (+/-0.000) for {'learning_rate': 0.6, 'max_depth': 3, 'n_estimators': 500}\n",
      "1.000 (+/-0.000) for {'learning_rate': 0.6, 'max_depth': 5, 'n_estimators': 100}\n",
      "1.000 (+/-0.000) for {'learning_rate': 0.6, 'max_depth': 5, 'n_estimators': 200}\n",
      "1.000 (+/-0.000) for {'learning_rate': 0.6, 'max_depth': 5, 'n_estimators': 300}\n",
      "1.000 (+/-0.000) for {'learning_rate': 0.6, 'max_depth': 5, 'n_estimators': 400}\n",
      "1.000 (+/-0.000) for {'learning_rate': 0.6, 'max_depth': 5, 'n_estimators': 500}\n",
      "1.000 (+/-0.000) for {'learning_rate': 0.6, 'max_depth': 7, 'n_estimators': 100}\n",
      "1.000 (+/-0.000) for {'learning_rate': 0.6, 'max_depth': 7, 'n_estimators': 200}\n",
      "1.000 (+/-0.000) for {'learning_rate': 0.6, 'max_depth': 7, 'n_estimators': 300}\n",
      "1.000 (+/-0.000) for {'learning_rate': 0.6, 'max_depth': 7, 'n_estimators': 400}\n",
      "1.000 (+/-0.000) for {'learning_rate': 0.6, 'max_depth': 7, 'n_estimators': 500}\n",
      "1.000 (+/-0.000) for {'learning_rate': 0.6, 'max_depth': 9, 'n_estimators': 100}\n",
      "1.000 (+/-0.000) for {'learning_rate': 0.6, 'max_depth': 9, 'n_estimators': 200}\n",
      "1.000 (+/-0.000) for {'learning_rate': 0.6, 'max_depth': 9, 'n_estimators': 300}\n",
      "1.000 (+/-0.000) for {'learning_rate': 0.6, 'max_depth': 9, 'n_estimators': 400}\n",
      "1.000 (+/-0.000) for {'learning_rate': 0.6, 'max_depth': 9, 'n_estimators': 500}\n",
      "1.000 (+/-0.000) for {'learning_rate': 0.6, 'max_depth': 11, 'n_estimators': 100}\n",
      "1.000 (+/-0.000) for {'learning_rate': 0.6, 'max_depth': 11, 'n_estimators': 200}\n",
      "1.000 (+/-0.000) for {'learning_rate': 0.6, 'max_depth': 11, 'n_estimators': 300}\n",
      "1.000 (+/-0.000) for {'learning_rate': 0.6, 'max_depth': 11, 'n_estimators': 400}\n",
      "1.000 (+/-0.000) for {'learning_rate': 0.6, 'max_depth': 11, 'n_estimators': 500}\n",
      "0.995 (+/-0.002) for {'learning_rate': 0.7, 'max_depth': 3, 'n_estimators': 100}\n",
      "0.997 (+/-0.001) for {'learning_rate': 0.7, 'max_depth': 3, 'n_estimators': 200}\n",
      "0.998 (+/-0.001) for {'learning_rate': 0.7, 'max_depth': 3, 'n_estimators': 300}\n",
      "0.999 (+/-0.000) for {'learning_rate': 0.7, 'max_depth': 3, 'n_estimators': 400}\n",
      "0.999 (+/-0.000) for {'learning_rate': 0.7, 'max_depth': 3, 'n_estimators': 500}\n",
      "1.000 (+/-0.000) for {'learning_rate': 0.7, 'max_depth': 5, 'n_estimators': 100}\n",
      "1.000 (+/-0.000) for {'learning_rate': 0.7, 'max_depth': 5, 'n_estimators': 200}\n",
      "1.000 (+/-0.000) for {'learning_rate': 0.7, 'max_depth': 5, 'n_estimators': 300}\n",
      "1.000 (+/-0.000) for {'learning_rate': 0.7, 'max_depth': 5, 'n_estimators': 400}\n",
      "1.000 (+/-0.000) for {'learning_rate': 0.7, 'max_depth': 5, 'n_estimators': 500}\n",
      "1.000 (+/-0.000) for {'learning_rate': 0.7, 'max_depth': 7, 'n_estimators': 100}\n",
      "1.000 (+/-0.000) for {'learning_rate': 0.7, 'max_depth': 7, 'n_estimators': 200}\n",
      "1.000 (+/-0.000) for {'learning_rate': 0.7, 'max_depth': 7, 'n_estimators': 300}\n",
      "1.000 (+/-0.000) for {'learning_rate': 0.7, 'max_depth': 7, 'n_estimators': 400}\n",
      "1.000 (+/-0.000) for {'learning_rate': 0.7, 'max_depth': 7, 'n_estimators': 500}\n",
      "1.000 (+/-0.000) for {'learning_rate': 0.7, 'max_depth': 9, 'n_estimators': 100}\n",
      "1.000 (+/-0.000) for {'learning_rate': 0.7, 'max_depth': 9, 'n_estimators': 200}\n",
      "1.000 (+/-0.000) for {'learning_rate': 0.7, 'max_depth': 9, 'n_estimators': 300}\n",
      "1.000 (+/-0.000) for {'learning_rate': 0.7, 'max_depth': 9, 'n_estimators': 400}\n",
      "1.000 (+/-0.000) for {'learning_rate': 0.7, 'max_depth': 9, 'n_estimators': 500}\n",
      "1.000 (+/-0.000) for {'learning_rate': 0.7, 'max_depth': 11, 'n_estimators': 100}\n",
      "1.000 (+/-0.000) for {'learning_rate': 0.7, 'max_depth': 11, 'n_estimators': 200}\n",
      "1.000 (+/-0.000) for {'learning_rate': 0.7, 'max_depth': 11, 'n_estimators': 300}\n",
      "1.000 (+/-0.000) for {'learning_rate': 0.7, 'max_depth': 11, 'n_estimators': 400}\n",
      "1.000 (+/-0.000) for {'learning_rate': 0.7, 'max_depth': 11, 'n_estimators': 500}\n",
      "0.995 (+/-0.002) for {'learning_rate': 0.8, 'max_depth': 3, 'n_estimators': 100}\n",
      "0.997 (+/-0.001) for {'learning_rate': 0.8, 'max_depth': 3, 'n_estimators': 200}\n",
      "0.999 (+/-0.001) for {'learning_rate': 0.8, 'max_depth': 3, 'n_estimators': 300}\n",
      "0.999 (+/-0.001) for {'learning_rate': 0.8, 'max_depth': 3, 'n_estimators': 400}\n",
      "0.999 (+/-0.000) for {'learning_rate': 0.8, 'max_depth': 3, 'n_estimators': 500}\n",
      "1.000 (+/-0.000) for {'learning_rate': 0.8, 'max_depth': 5, 'n_estimators': 100}\n",
      "1.000 (+/-0.000) for {'learning_rate': 0.8, 'max_depth': 5, 'n_estimators': 200}\n",
      "1.000 (+/-0.000) for {'learning_rate': 0.8, 'max_depth': 5, 'n_estimators': 300}\n",
      "1.000 (+/-0.000) for {'learning_rate': 0.8, 'max_depth': 5, 'n_estimators': 400}\n",
      "1.000 (+/-0.000) for {'learning_rate': 0.8, 'max_depth': 5, 'n_estimators': 500}\n",
      "1.000 (+/-0.000) for {'learning_rate': 0.8, 'max_depth': 7, 'n_estimators': 100}\n",
      "1.000 (+/-0.000) for {'learning_rate': 0.8, 'max_depth': 7, 'n_estimators': 200}\n",
      "1.000 (+/-0.000) for {'learning_rate': 0.8, 'max_depth': 7, 'n_estimators': 300}\n",
      "1.000 (+/-0.000) for {'learning_rate': 0.8, 'max_depth': 7, 'n_estimators': 400}\n",
      "1.000 (+/-0.000) for {'learning_rate': 0.8, 'max_depth': 7, 'n_estimators': 500}\n",
      "1.000 (+/-0.000) for {'learning_rate': 0.8, 'max_depth': 9, 'n_estimators': 100}\n",
      "1.000 (+/-0.000) for {'learning_rate': 0.8, 'max_depth': 9, 'n_estimators': 200}\n",
      "1.000 (+/-0.000) for {'learning_rate': 0.8, 'max_depth': 9, 'n_estimators': 300}\n",
      "1.000 (+/-0.000) for {'learning_rate': 0.8, 'max_depth': 9, 'n_estimators': 400}\n",
      "1.000 (+/-0.000) for {'learning_rate': 0.8, 'max_depth': 9, 'n_estimators': 500}\n",
      "1.000 (+/-0.000) for {'learning_rate': 0.8, 'max_depth': 11, 'n_estimators': 100}\n",
      "1.000 (+/-0.000) for {'learning_rate': 0.8, 'max_depth': 11, 'n_estimators': 200}\n",
      "1.000 (+/-0.000) for {'learning_rate': 0.8, 'max_depth': 11, 'n_estimators': 300}\n",
      "1.000 (+/-0.000) for {'learning_rate': 0.8, 'max_depth': 11, 'n_estimators': 400}\n",
      "1.000 (+/-0.000) for {'learning_rate': 0.8, 'max_depth': 11, 'n_estimators': 500}\n",
      "0.995 (+/-0.003) for {'learning_rate': 0.9, 'max_depth': 3, 'n_estimators': 100}\n",
      "0.998 (+/-0.001) for {'learning_rate': 0.9, 'max_depth': 3, 'n_estimators': 200}\n",
      "0.999 (+/-0.001) for {'learning_rate': 0.9, 'max_depth': 3, 'n_estimators': 300}\n",
      "0.999 (+/-0.001) for {'learning_rate': 0.9, 'max_depth': 3, 'n_estimators': 400}\n",
      "0.999 (+/-0.000) for {'learning_rate': 0.9, 'max_depth': 3, 'n_estimators': 500}\n",
      "1.000 (+/-0.000) for {'learning_rate': 0.9, 'max_depth': 5, 'n_estimators': 100}\n",
      "1.000 (+/-0.000) for {'learning_rate': 0.9, 'max_depth': 5, 'n_estimators': 200}\n",
      "1.000 (+/-0.000) for {'learning_rate': 0.9, 'max_depth': 5, 'n_estimators': 300}\n",
      "1.000 (+/-0.000) for {'learning_rate': 0.9, 'max_depth': 5, 'n_estimators': 400}\n",
      "1.000 (+/-0.000) for {'learning_rate': 0.9, 'max_depth': 5, 'n_estimators': 500}\n",
      "1.000 (+/-0.000) for {'learning_rate': 0.9, 'max_depth': 7, 'n_estimators': 100}\n",
      "1.000 (+/-0.000) for {'learning_rate': 0.9, 'max_depth': 7, 'n_estimators': 200}\n",
      "1.000 (+/-0.000) for {'learning_rate': 0.9, 'max_depth': 7, 'n_estimators': 300}\n",
      "1.000 (+/-0.000) for {'learning_rate': 0.9, 'max_depth': 7, 'n_estimators': 400}\n",
      "1.000 (+/-0.000) for {'learning_rate': 0.9, 'max_depth': 7, 'n_estimators': 500}\n",
      "1.000 (+/-0.000) for {'learning_rate': 0.9, 'max_depth': 9, 'n_estimators': 100}\n",
      "1.000 (+/-0.000) for {'learning_rate': 0.9, 'max_depth': 9, 'n_estimators': 200}\n",
      "1.000 (+/-0.000) for {'learning_rate': 0.9, 'max_depth': 9, 'n_estimators': 300}\n",
      "1.000 (+/-0.000) for {'learning_rate': 0.9, 'max_depth': 9, 'n_estimators': 400}\n",
      "1.000 (+/-0.000) for {'learning_rate': 0.9, 'max_depth': 9, 'n_estimators': 500}\n",
      "1.000 (+/-0.000) for {'learning_rate': 0.9, 'max_depth': 11, 'n_estimators': 100}\n",
      "1.000 (+/-0.000) for {'learning_rate': 0.9, 'max_depth': 11, 'n_estimators': 200}\n",
      "1.000 (+/-0.000) for {'learning_rate': 0.9, 'max_depth': 11, 'n_estimators': 300}\n",
      "1.000 (+/-0.000) for {'learning_rate': 0.9, 'max_depth': 11, 'n_estimators': 400}\n",
      "1.000 (+/-0.000) for {'learning_rate': 0.9, 'max_depth': 11, 'n_estimators': 500}\n",
      "0.995 (+/-0.003) for {'learning_rate': 1, 'max_depth': 3, 'n_estimators': 100}\n",
      "0.998 (+/-0.001) for {'learning_rate': 1, 'max_depth': 3, 'n_estimators': 200}\n",
      "0.999 (+/-0.001) for {'learning_rate': 1, 'max_depth': 3, 'n_estimators': 300}\n",
      "0.999 (+/-0.000) for {'learning_rate': 1, 'max_depth': 3, 'n_estimators': 400}\n",
      "0.999 (+/-0.000) for {'learning_rate': 1, 'max_depth': 3, 'n_estimators': 500}\n",
      "1.000 (+/-0.000) for {'learning_rate': 1, 'max_depth': 5, 'n_estimators': 100}\n",
      "1.000 (+/-0.000) for {'learning_rate': 1, 'max_depth': 5, 'n_estimators': 200}\n",
      "1.000 (+/-0.000) for {'learning_rate': 1, 'max_depth': 5, 'n_estimators': 300}\n",
      "1.000 (+/-0.000) for {'learning_rate': 1, 'max_depth': 5, 'n_estimators': 400}\n",
      "1.000 (+/-0.000) for {'learning_rate': 1, 'max_depth': 5, 'n_estimators': 500}\n",
      "1.000 (+/-0.000) for {'learning_rate': 1, 'max_depth': 7, 'n_estimators': 100}\n",
      "1.000 (+/-0.000) for {'learning_rate': 1, 'max_depth': 7, 'n_estimators': 200}\n",
      "1.000 (+/-0.000) for {'learning_rate': 1, 'max_depth': 7, 'n_estimators': 300}\n",
      "1.000 (+/-0.000) for {'learning_rate': 1, 'max_depth': 7, 'n_estimators': 400}\n",
      "1.000 (+/-0.000) for {'learning_rate': 1, 'max_depth': 7, 'n_estimators': 500}\n",
      "1.000 (+/-0.000) for {'learning_rate': 1, 'max_depth': 9, 'n_estimators': 100}\n",
      "1.000 (+/-0.000) for {'learning_rate': 1, 'max_depth': 9, 'n_estimators': 200}\n",
      "1.000 (+/-0.000) for {'learning_rate': 1, 'max_depth': 9, 'n_estimators': 300}\n",
      "1.000 (+/-0.000) for {'learning_rate': 1, 'max_depth': 9, 'n_estimators': 400}\n",
      "1.000 (+/-0.000) for {'learning_rate': 1, 'max_depth': 9, 'n_estimators': 500}\n",
      "1.000 (+/-0.000) for {'learning_rate': 1, 'max_depth': 11, 'n_estimators': 100}\n",
      "1.000 (+/-0.000) for {'learning_rate': 1, 'max_depth': 11, 'n_estimators': 200}\n",
      "1.000 (+/-0.000) for {'learning_rate': 1, 'max_depth': 11, 'n_estimators': 300}\n",
      "1.000 (+/-0.000) for {'learning_rate': 1, 'max_depth': 11, 'n_estimators': 400}\n",
      "1.000 (+/-0.000) for {'learning_rate': 1, 'max_depth': 11, 'n_estimators': 500}\n",
      "Exec. time: 847.84 s\n"
     ]
    }
   ],
   "source": [
    "from sklearn.model_selection import GridSearchCV,RandomizedSearchCV\n",
    "before = time.time()\n",
    "tuned_parameters = [{'n_estimators':[100,200,300,400,500],\n",
    "                     'max_depth':[3,5,7,9,11],\n",
    "                     'learning_rate':[0.1,0.2,0.3,0.4,0.5,0.6,0.7,0.8,0.9,1]}]\n",
    "gradtuned = GradientBoostingRegressor(loss='ls',random_state=0)\n",
    "estgrad = GridSearchCV(gradtuned,tuned_parameters,cv=10,n_jobs=-1)\n",
    "estgrad.fit(X_train,y_train)\n",
    "\n",
    "means = estgrad.cv_results_['mean_test_score']\n",
    "stds = estgrad.cv_results_['std_test_score']\n",
    "\n",
    "for mean, std, params in zip(means, stds, estgrad.cv_results_['params']):\n",
    "    print(\"%0.3f (+/-%0.03f) for %r\"\n",
    "          % (mean, std * 2, params))\n",
    "    \n",
    "after = time.time()\n",
    "print('Exec. time: {:5.2f} s'.format(after-before))"
   ]
  },
  {
   "cell_type": "markdown",
   "metadata": {},
   "source": [
    "Upon the tuning of the hyperparameters, it is obvious that the gradientboosting regressor has seen tremendous improvement."
   ]
  },
  {
   "cell_type": "code",
   "execution_count": 74,
   "metadata": {},
   "outputs": [
    {
     "name": "stdout",
     "output_type": "stream",
     "text": [
      "The training accuracy of gradientboostingregressor is 1.00  (+/- 0.00)\n",
      "Time taken to execute algorithm:  4.66 s\n"
     ]
    }
   ],
   "source": [
    "GBRfinal = GradientBoostingRegressor(learning_rate=0.1,max_depth=5,n_estimators=200)\n",
    "before = time.time()\n",
    "GBRscores = cross_val_score(GBRfinal,X_train,y_train,cv=10,scoring='r2')\n",
    "print(\"The training accuracy of gradientboostingregressor is %0.2f  (+/- %0.2f)\" %(GBRscores.mean(), GBRscores.std()*2))\n",
    "after = time.time()\n",
    "print('Time taken to execute algorithm: {:5.2f} s'.format(after - before))"
   ]
  },
  {
   "cell_type": "markdown",
   "metadata": {},
   "source": [
    "It is clearly shown from our built models that GradientBoostingRegressor and RandomForestRegressor have both produced r2_scores of 1 (coefficient of determination), which implies that these models best explain the variability in the data."
   ]
  },
  {
   "cell_type": "code",
   "execution_count": null,
   "metadata": {},
   "outputs": [],
   "source": []
  }
 ],
 "metadata": {
  "kernelspec": {
   "display_name": "Python 3",
   "language": "python",
   "name": "python3"
  },
  "language_info": {
   "codemirror_mode": {
    "name": "ipython",
    "version": 3
   },
   "file_extension": ".py",
   "mimetype": "text/x-python",
   "name": "python",
   "nbconvert_exporter": "python",
   "pygments_lexer": "ipython3",
   "version": "3.7.2"
  }
 },
 "nbformat": 4,
 "nbformat_minor": 2
}
